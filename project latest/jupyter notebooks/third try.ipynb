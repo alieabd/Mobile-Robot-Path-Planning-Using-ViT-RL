{
 "cells": [
  {
   "cell_type": "code",
   "execution_count": 1,
   "id": "7dbefbf0",
   "metadata": {
    "scrolled": true,
    "ExecuteTime": {
     "end_time": "2023-08-04T13:20:01.930968500Z",
     "start_time": "2023-08-04T13:20:01.919969400Z"
    }
   },
   "outputs": [
    {
     "name": "stdout",
     "output_type": "stream",
     "text": [
      "G:\\project\\fifth_try\\data\n"
     ]
    }
   ],
   "source": [
    "cd G:\\project\\fifth_try\\data"
   ]
  },
  {
   "cell_type": "code",
   "execution_count": 2,
   "id": "c9b101c3",
   "metadata": {
    "ExecuteTime": {
     "end_time": "2023-08-04T13:20:06.223674900Z",
     "start_time": "2023-08-04T13:20:06.180151600Z"
    }
   },
   "outputs": [
    {
     "name": "stdout",
     "output_type": "stream",
     "text": [
      " Volume in drive G is New Volume\n",
      " Volume Serial Number is BCD7-8E47\n",
      "\n",
      " Directory of G:\\project\\fifth_try\\data\n",
      "\n",
      "07/31/2023  07:52 PM    <DIR>          .\n",
      "08/04/2023  04:19 PM    <DIR>          ..\n",
      "07/28/2023  10:14 AM         1,244,952 current_pose_per_episode.npy\n",
      "07/31/2023  07:33 PM        31,866,960 ep001-loss49.896-val_loss4.488.h5\n",
      "07/31/2023  07:33 PM        31,866,960 ep002-loss3.721-val_loss3.650.h5\n",
      "07/31/2023  07:34 PM        31,866,960 ep003-loss3.535-val_loss3.514.h5\n",
      "07/31/2023  07:35 PM        31,866,960 ep004-loss3.457-val_loss3.477.h5\n",
      "07/31/2023  07:36 PM        31,866,960 ep005-loss3.430-val_loss3.460.h5\n",
      "07/31/2023  07:36 PM        31,866,960 ep006-loss3.417-val_loss3.451.h5\n",
      "07/31/2023  07:37 PM        31,866,960 ep007-loss3.409-val_loss3.445.h5\n",
      "07/31/2023  07:38 PM        31,866,960 ep008-loss3.405-val_loss3.441.h5\n",
      "07/31/2023  07:38 PM        31,866,960 ep009-loss3.402-val_loss3.438.h5\n",
      "07/31/2023  07:39 PM        31,866,960 ep010-loss3.399-val_loss3.436.h5\n",
      "07/31/2023  07:40 PM        31,866,960 ep011-loss3.398-val_loss3.435.h5\n",
      "07/31/2023  07:41 PM        31,866,960 ep012-loss3.397-val_loss3.434.h5\n",
      "07/31/2023  07:41 PM        31,866,960 ep013-loss3.396-val_loss3.433.h5\n",
      "07/31/2023  07:42 PM        31,866,960 ep014-loss3.395-val_loss3.432.h5\n",
      "07/31/2023  07:43 PM        31,866,960 ep015-loss3.394-val_loss3.432.h5\n",
      "07/31/2023  07:44 PM        31,866,960 ep016-loss3.394-val_loss3.431.h5\n",
      "07/31/2023  07:44 PM        31,866,960 ep017-loss3.394-val_loss3.431.h5\n",
      "07/31/2023  07:45 PM        31,866,960 ep018-loss3.393-val_loss3.430.h5\n",
      "07/31/2023  07:46 PM        31,866,960 ep019-loss3.393-val_loss3.430.h5\n",
      "07/31/2023  07:47 PM        31,866,960 ep020-loss3.394-val_loss3.430.h5\n",
      "07/31/2023  07:47 PM        31,866,960 ep021-loss3.393-val_loss3.430.h5\n",
      "07/31/2023  07:49 PM        31,866,960 ep023-loss3.392-val_loss3.429.h5\n",
      "07/31/2023  07:50 PM        31,866,960 ep024-loss3.392-val_loss3.429.h5\n",
      "07/31/2023  07:50 PM        31,866,960 ep025-loss3.392-val_loss3.429.h5\n",
      "07/31/2023  07:51 PM        31,866,960 ep026-loss3.392-val_loss3.429.h5\n",
      "07/31/2023  07:52 PM        31,866,960 ep027-loss3.392-val_loss3.428.h5\n",
      "07/28/2023  12:25 PM             4,216 episode_length.npy\n",
      "07/28/2023  10:14 AM    10,243,123,328 image_data_per_episode.npy\n",
      "07/28/2023  10:14 AM         1,067,120 velocity_data_per_episode.npy\n",
      "07/28/2023  06:08 PM           533,360 W_Current_pose.npy\n",
      "07/28/2023  06:08 PM             4,128 W_Episode.npy\n",
      "07/28/2023  06:08 PM    10,238,054,528 W_Image_data_per_episode.npy\n",
      "07/28/2023  06:08 PM           355,616 W_R_T_data.npy\n",
      "07/28/2023  06:22 PM            54,512 W_teest_Current_pose.npy\n",
      "07/28/2023  06:22 PM               528 W_test_Episode.npy\n",
      "07/28/2023  06:22 PM     1,044,172,928 W_test_Image_data_per_episode.npy\n",
      "07/28/2023  06:22 PM            36,384 W_test_R_T_data.npy\n",
      "07/28/2023  06:22 PM           108,896 W_test_Velocity.npy\n",
      "07/28/2023  06:08 PM         1,066,592 W_Velocity.npy\n",
      "              40 File(s) 22,358,368,048 bytes\n",
      "               2 Dir(s)  67,500,675,072 bytes free\n"
     ]
    }
   ],
   "source": [
    "ls"
   ]
  },
  {
   "cell_type": "code",
   "execution_count": 3,
   "id": "95f50e63",
   "metadata": {
    "ExecuteTime": {
     "end_time": "2023-08-04T13:20:08.003701200Z",
     "start_time": "2023-08-04T13:20:07.509243400Z"
    }
   },
   "outputs": [],
   "source": [
    "import numpy as np\n",
    "image = np.load(\"W_Image_data_per_episode.npy\",mmap_mode='c')\n",
    "episode_length = np.load(\"W_Episode.npy\",mmap_mode='c')\n",
    "velocity = np.load(\"W_Velocity.npy\",mmap_mode='c')\n",
    "r_theta_data = np.load(\"W_R_T_data.npy\",mmap_mode='c')\n",
    "\n",
    "\n",
    "test_image = np.load(\"W_test_Image_data_per_episode.npy\",mmap_mode='c')\n",
    "test_episode_length = np.load(\"W_test_Episode.npy\",mmap_mode='c')\n",
    "test_velocity = np.load(\"W_test_Velocity.npy\",mmap_mode='c')\n",
    "test_r_theta_data = np.load(\"W_test_R_T_data.npy\",mmap_mode='c')"
   ]
  },
  {
   "cell_type": "markdown",
   "source": [
    "### astype int32\n"
   ],
   "metadata": {
    "collapsed": false
   }
  },
  {
   "cell_type": "code",
   "execution_count": 4,
   "outputs": [],
   "source": [
    "image = image.astype(np.int32)\n",
    "test_image = test_image.astype(np.int32)"
   ],
   "metadata": {
    "collapsed": false,
    "ExecuteTime": {
     "end_time": "2023-08-04T13:20:24.063371Z",
     "start_time": "2023-08-04T13:20:09.123918400Z"
    }
   }
  },
  {
   "cell_type": "code",
   "execution_count": 8,
   "outputs": [
    {
     "data": {
      "text/plain": "(2266, 160, 120, 3)"
     },
     "execution_count": 8,
     "metadata": {},
     "output_type": "execute_result"
    }
   ],
   "source": [
    "test_image.shape"
   ],
   "metadata": {
    "collapsed": false,
    "ExecuteTime": {
     "end_time": "2023-08-04T13:21:08.709651900Z",
     "start_time": "2023-08-04T13:21:08.683652300Z"
    }
   }
  },
  {
   "cell_type": "markdown",
   "source": [
    "### Reshape"
   ],
   "metadata": {
    "collapsed": false
   }
  },
  {
   "cell_type": "code",
   "execution_count": 9,
   "outputs": [],
   "source": [
    "image = np.reshape(image,[22218,120,160,3])\n",
    "test_image = np.reshape(test_image,[2266,120,160,3])"
   ],
   "metadata": {
    "collapsed": false,
    "ExecuteTime": {
     "end_time": "2023-08-04T13:21:14.495077200Z",
     "start_time": "2023-08-04T13:21:14.482071600Z"
    }
   }
  },
  {
   "cell_type": "code",
   "execution_count": 10,
   "outputs": [],
   "source": [
    "velocity = np.around(velocity,decimals=3)\n",
    "r_theta_data = np.around(r_theta_data,decimals=3)\n",
    "\n",
    "\n",
    "test_velocity = np.around(test_velocity,decimals=3)\n",
    "test_r_theta_data = np.around(test_r_theta_data,decimals=3)"
   ],
   "metadata": {
    "collapsed": false,
    "ExecuteTime": {
     "end_time": "2023-08-04T13:21:15.442789900Z",
     "start_time": "2023-08-04T13:21:15.426790500Z"
    }
   }
  },
  {
   "cell_type": "code",
   "execution_count": 11,
   "id": "f613addd",
   "metadata": {
    "ExecuteTime": {
     "end_time": "2023-08-04T13:21:15.724324300Z",
     "start_time": "2023-08-04T13:21:15.713311900Z"
    }
   },
   "outputs": [],
   "source": [
    "image_array = image[15345]"
   ]
  },
  {
   "cell_type": "code",
   "execution_count": 12,
   "id": "3d72a44f",
   "metadata": {
    "ExecuteTime": {
     "end_time": "2023-08-04T13:21:16.575148600Z",
     "start_time": "2023-08-04T13:21:15.891255400Z"
    }
   },
   "outputs": [
    {
     "data": {
      "text/plain": "<Figure size 640x480 with 1 Axes>",
      "image/png": "[encoded data removed]"
     },
     "metadata": {},
     "output_type": "display_data"
    }
   ],
   "source": [
    "import matplotlib.pyplot as plt\n",
    "plt.imshow(image_array)\n",
    "plt.axis('off')  # Optional: turn off axis ticks and labels\n",
    "plt.show()"
   ]
  },
  {
   "cell_type": "code",
   "execution_count": 12,
   "outputs": [],
   "source": [],
   "metadata": {
    "collapsed": false,
    "ExecuteTime": {
     "end_time": "2023-08-04T13:21:16.590398400Z",
     "start_time": "2023-08-04T13:21:16.575148600Z"
    }
   }
  },
  {
   "cell_type": "code",
   "execution_count": 12,
   "outputs": [],
   "source": [],
   "metadata": {
    "collapsed": false,
    "ExecuteTime": {
     "end_time": "2023-08-04T13:21:16.642396900Z",
     "start_time": "2023-08-04T13:21:16.590398400Z"
    }
   }
  },
  {
   "cell_type": "code",
   "execution_count": 13,
   "id": "0f560316",
   "metadata": {
    "scrolled": false,
    "ExecuteTime": {
     "end_time": "2023-08-04T13:21:23.212667Z",
     "start_time": "2023-08-04T13:21:16.608396500Z"
    }
   },
   "outputs": [
    {
     "name": "stderr",
     "output_type": "stream",
     "text": [
      "G:\\Anaconda\\envs\\tensorflow\\lib\\site-packages\\tensorflow_addons\\utils\\tfa_eol_msg.py:23: UserWarning: \n",
      "\n",
      "TensorFlow Addons (TFA) has ended development and introduction of new features.\n",
      "TFA has entered a minimal maintenance and release mode until a planned end of life in May 2024.\n",
      "Please modify downstream libraries to take dependencies from other repositories in our TensorFlow community (e.g. Keras, Keras-CV, and Keras-NLP). \n",
      "\n",
      "For more information see: https://github.com/tensorflow/addons/issues/2807 \n",
      "\n",
      "  warnings.warn(\n"
     ]
    }
   ],
   "source": [
    "from tensorflow.keras.layers import Activation , concatenate\n",
    "import tensorflow as tf\n",
    "from tensorflow import keras\n",
    "from tensorflow.keras import layers\n",
    "#pip install tensorflow-addons\n",
    "import tensorflow_addons as tfa"
   ]
  },
  {
   "cell_type": "markdown",
   "id": "7a6b2c96",
   "metadata": {},
   "source": [
    "# Prepare The Data"
   ]
  },
  {
   "cell_type": "code",
   "execution_count": 14,
   "id": "32980978",
   "metadata": {
    "ExecuteTime": {
     "end_time": "2023-08-04T13:21:23.227767700Z",
     "start_time": "2023-08-04T13:21:23.214667700Z"
    }
   },
   "outputs": [
    {
     "name": "stdout",
     "output_type": "stream",
     "text": [
      "x_train shape: (22218, 120, 160, 3) - y_train shape: (22218, 2, 3)\n"
     ]
    }
   ],
   "source": [
    "input_shape = (120, 160, 3)\n",
    "\n",
    "x_train = image\n",
    "y_train = velocity\n",
    "\n",
    "x_test = test_image\n",
    "y_test = test_velocity\n",
    "print(f\"x_train shape: {x_train.shape} - y_train shape: {y_train.shape}\")\n"
   ]
  },
  {
   "cell_type": "markdown",
   "id": "b2d2e715",
   "metadata": {},
   "source": [
    "# configuring the hyperparameters"
   ]
  },
  {
   "cell_type": "code",
   "execution_count": 15,
   "id": "76ba3c48",
   "metadata": {
    "ExecuteTime": {
     "end_time": "2023-08-04T13:21:23.272941100Z",
     "start_time": "2023-08-04T13:21:23.229767100Z"
    }
   },
   "outputs": [],
   "source": [
    "learning_rate = 0.01 # used to be 0.01\n",
    "weight_decay = 0.0001\n",
    "batch_size = 256\n",
    "num_epochs = 100\n",
    "image_size = 256  # We'll resize input images to this size\n",
    "patch_size = 64  # Size of the patches to be extract from the input images  ==> used to be 32\n",
    "num_patches = (image_size // patch_size) ** 2\n",
    "projection_dim = 4\n",
    "num_heads = 4\n",
    "transformer_units = [\n",
    "    projection_dim * 2,\n",
    "    projection_dim,\n",
    "]  # Size of the transformer layers\n",
    "transformer_layers = 2\n",
    "mlp_head_units = [2048, 1024]  # Size of the dense layers of the final classifier"
   ]
  },
  {
   "cell_type": "markdown",
   "id": "a169d546",
   "metadata": {},
   "source": [
    "# data augmentation"
   ]
  },
  {
   "cell_type": "code",
   "execution_count": 16,
   "id": "be12f4ba",
   "metadata": {
    "ExecuteTime": {
     "end_time": "2023-08-04T13:21:28.873777100Z",
     "start_time": "2023-08-04T13:21:23.244938100Z"
    }
   },
   "outputs": [],
   "source": [
    "data_augmentation = keras.Sequential(\n",
    "    [\n",
    "        layers.Normalization(),\n",
    "        layers.Resizing(image_size, image_size),\n",
    "        #layers.RandomFlip(\"horizontal\"),\n",
    "        #layers.RandomRotation(factor=0.02),\n",
    "        #layers.RandomZoom(\n",
    "        #    height_factor=0.2, width_factor=0.2\n",
    "        #),\n",
    "    ],\n",
    "    name=\"data_augmentation\",\n",
    ")\n",
    "# Compute the mean and the variance of the training data for normalization.\n",
    "data_augmentation.layers[0].adapt(x_train)"
   ]
  },
  {
   "cell_type": "markdown",
   "id": "d42b3c37",
   "metadata": {},
   "source": [
    "# Implement multilayer perceptron (MLP)\n",
    "\n",
    "\n",
    "\n",
    "#### using multiple Dense layer"
   ]
  },
  {
   "cell_type": "code",
   "execution_count": 17,
   "id": "f98cdeb5",
   "metadata": {
    "ExecuteTime": {
     "end_time": "2023-08-04T13:21:28.889795700Z",
     "start_time": "2023-08-04T13:21:28.874770100Z"
    }
   },
   "outputs": [],
   "source": [
    "def mlp(x, hidden_units, dropout_rate):\n",
    "    for units in hidden_units:\n",
    "        x = layers.Dense(units, activation=tf.nn.gelu)(x)\n",
    "        x = layers.Dropout(dropout_rate)(x)\n",
    "    return x\n"
   ]
  },
  {
   "cell_type": "markdown",
   "id": "0e296189",
   "metadata": {},
   "source": [
    "# Implement patch creation as a layer"
   ]
  },
  {
   "cell_type": "code",
   "execution_count": 18,
   "id": "d35b2f8e",
   "metadata": {
    "ExecuteTime": {
     "end_time": "2023-08-04T13:21:28.912927Z",
     "start_time": "2023-08-04T13:21:28.891793500Z"
    }
   },
   "outputs": [],
   "source": [
    "\n",
    "#Goal MLP\n",
    "#Goal is sth like np.array([[1,2]])\n",
    "'''\n",
    "Goal = mlp(goal,[16,64,192]) #shape=(1, 192)\n",
    "tf.reshape(Goal,[6,6,3])\n",
    "'''\n",
    "#use it alongside image patches\n",
    "\n",
    "class Patches(layers.Layer):\n",
    "    def __init__(self, patch_size):\n",
    "        super().__init__()\n",
    "        self.patch_size = patch_size\n",
    "\n",
    "    def call(self, images):\n",
    "        batch_size = tf.shape(images)[0]\n",
    "        #print(\"batch_size ==> \",batch_size)\n",
    "        patches = tf.image.extract_patches(\n",
    "            images=images,\n",
    "            sizes=[1, self.patch_size, self.patch_size, 1],\n",
    "            strides=[1, self.patch_size, self.patch_size, 1],\n",
    "            rates=[1, 1, 1, 1],\n",
    "            padding=\"VALID\",\n",
    "        )\n",
    "        \n",
    "        #3072/3=1024\n",
    "        #sqrt(1024) = 32\n",
    "        #32*8=256\n",
    "        #print('$$patch_size$$ ',patches.shape) #(None, 8, 8, 3072)\n",
    "        patch_dims = patches.shape[-1]\n",
    "        patches = tf.reshape(patches, [batch_size, -1, patch_dims])\n",
    "        #print('$$patch_size2$$ ',patches.shape)\n",
    "        return patches"
   ]
  },
  {
   "cell_type": "markdown",
   "id": "004a2fe6",
   "metadata": {},
   "source": [
    "# Implement the patch encoding layer\n",
    "\n",
    "##### --> linearly transform a patch by projecting it into a vector of size projection_dim. \n",
    "##### --> it adds a learnable position embedding to the projected vector"
   ]
  },
  {
   "cell_type": "code",
   "execution_count": 19,
   "id": "9aa54ea3",
   "metadata": {
    "ExecuteTime": {
     "end_time": "2023-08-04T13:21:28.920927400Z",
     "start_time": "2023-08-04T13:21:28.906920100Z"
    }
   },
   "outputs": [],
   "source": [
    "class PatchEncoder(layers.Layer):\n",
    "    def __init__(self, num_patches, projection_dim):\n",
    "        super().__init__()\n",
    "        self.num_patches = num_patches\n",
    "        self.projection = layers.Dense(units=projection_dim) #Linear Projection Of Patch-Tockens\n",
    "        self.position_embedding = layers.Embedding(\n",
    "            input_dim=num_patches, output_dim=projection_dim\n",
    "        )\n",
    "        \n",
    "        #input_dim ==> encoding number 0 to num_patches -1\n",
    "        #output_dim ==> self explanatary -> turns every input to output_dim\n",
    "        #input_length ==> the Maximum length of input sequence \n",
    "        '''\n",
    "        input_dim=10 ==> each word in input\n",
    "        output_dim=4\n",
    "        input_length=2\n",
    "        \n",
    "        >> input_data = np.array([[1,2]])\n",
    "        input ->(1, 2)\n",
    "        output ->[[[ 0.04502351  0.00151128  0.01764284 -0.0089057 ]\n",
    "                    [-0.04007018  0.02874336  0.02772436  0.00842067]]]\n",
    "        '''\n",
    "\n",
    "        \n",
    "        \n",
    "    def call(self, patch):\n",
    "        print('**** num_patches => ',self.num_patches)\n",
    "        print('**** projection => ',self.projection)\n",
    "        print('**** position_embedding => ',self.position_embedding)\n",
    "        positions = tf.range(start=0, limit=self.num_patches, delta=1)\n",
    "        print(self.projection(patch))\n",
    "        encoded = self.projection(patch) + self.position_embedding(positions)\n",
    "        \n",
    "        print('**** ',encoded.shape)\n",
    "        return encoded"
   ]
  },
  {
   "cell_type": "markdown",
   "id": "1b156adc",
   "metadata": {},
   "source": [
    "# ViT model"
   ]
  },
  {
   "cell_type": "code",
   "execution_count": 20,
   "id": "1ed16ab6",
   "metadata": {
    "ExecuteTime": {
     "end_time": "2023-08-04T13:21:28.944980800Z",
     "start_time": "2023-08-04T13:21:28.926929Z"
    }
   },
   "outputs": [],
   "source": [
    "def create_vit_classifier():\n",
    "    image_inputs = layers.Input(shape=input_shape) #shape=(None, 160, 120, 3))\n",
    "    goal_inputs = layers.Input(shape=(2,))\n",
    "    # Augment data.\n",
    "    augmented = data_augmentation(image_inputs) #shape=(None, 256, 256, 3)\n",
    "    # Create patches.\n",
    "    patches = Patches(patch_size)(augmented) # shape=(None, None, 3072)\n",
    "    #print(f'==> {patches.shape}')\n",
    "    \n",
    "    #Add Goal to Patches\n",
    "    Goal = mlp(goal_inputs,[32,512,3072,12288],dropout_rate=0.05)#shape=(None, 3072)\n",
    "    #Goal = tf.reshape(Goal,[1,1,3072])\n",
    "    patches = tf.keras.layers.Concatenate(axis=1)([tf.expand_dims(Goal, axis=1),patches]) #shape=(None, None, 3072)\n",
    "\n",
    "    # Encode patches.\n",
    "    encoded_patches = PatchEncoder(num_patches+1, projection_dim)(patches) #shape=(1, 64, 4)\n",
    "    print('encoded_patches ==> ',encoded_patches.shape)\n",
    "    \n",
    "    \n",
    "    # Create multiple layers of the Transformer block.\n",
    "    for _ in range(transformer_layers):\n",
    "        print(\"$$$im inside the for\")\n",
    "        # Layer normalization 1.\n",
    "        x1 = layers.LayerNormalization(epsilon=1e-6)(encoded_patches)\n",
    "        # Create a multi-head attention layer.\n",
    "        attention_output = layers.MultiHeadAttention( #Self Attention mechanism\n",
    "            num_heads=num_heads, key_dim=projection_dim, dropout=0.1\n",
    "        )(x1, x1)\n",
    "        # Skip connection 1.\n",
    "        x2 = layers.Add()([attention_output, encoded_patches])\n",
    "        \n",
    "        # Layer normalization 2.\n",
    "        x3 = layers.LayerNormalization(epsilon=1e-6)(x2)\n",
    "        # MLP.\n",
    "        x3 = mlp(x3, hidden_units=transformer_units, dropout_rate=0.1)\n",
    "        # Skip connection 2.\n",
    "        encoded_patches = layers.Add()([x3, x2])\n",
    "\n",
    "        \n",
    "        \n",
    "        \n",
    "        # Create a [batch_size, projection_dim] tensor.\n",
    "        representation = layers.LayerNormalization(epsilon=1e-6)(encoded_patches)\n",
    "        representation = layers.Flatten()(representation)\n",
    "        representation = layers.Dropout(0.3)(representation)\n",
    "        #so far we created the image representation\n",
    "        '''\n",
    "        Note that the layers.GlobalAveragePooling1D layer could also be used \n",
    "        instead to aggregate the outputs of the Transformer block, \n",
    "        especially when the number of patches and the projection dimensions are large.\n",
    "        '''\n",
    "    # Add MLP.\n",
    "    features = mlp(representation, hidden_units=mlp_head_units, dropout_rate=0.5)\n",
    "        \n",
    "    # Classify outputs.##############################################################################################\n",
    "    linear_vel = layers.Dense(512, activation=\"relu\")(features)\n",
    "    linear_vel = layers.Dense(128, activation=\"relu\")(linear_vel)\n",
    "    linear_vel = layers.Dense(32, activation=\"relu\")(linear_vel)\n",
    "    linear_vel = layers.Dense(8, activation=\"relu\")(linear_vel)\n",
    "    linear_vel = layers.Dense(1,)(linear_vel)                        \n",
    "    linear_net =Activation(\"linear\", name=\"linear_output\")(linear_vel)                  \n",
    "                                                                                        \n",
    "                                                                                         \n",
    "    angular_vel = layers.Dense(512, activation=\"relu\")(features)\n",
    "    angular_vel = layers.Dense(128, activation=\"relu\")(angular_vel)\n",
    "    angular_vel = layers.Dense(32, activation=\"relu\")(angular_vel)\n",
    "    angular_vel = layers.Dense(8, activation=\"relu\")(angular_vel)\n",
    "    angular_vel = layers.Dense(1,)(angular_vel)                        \n",
    "    angular_net =Activation(\"linear\", name=\"angular_output\")(angular_vel)\n",
    "                                                                                         \n",
    "    \n",
    "    \n",
    "    # Create the Keras model.##############################################################################\n",
    "    model = keras.Model(inputs=[image_inputs,goal_inputs], outputs=[linear_net,angular_net])             \n",
    "    return model"
   ]
  },
  {
   "cell_type": "code",
   "execution_count": 20,
   "id": "57037c4d",
   "metadata": {
    "ExecuteTime": {
     "end_time": "2023-08-04T13:21:28.952996500Z",
     "start_time": "2023-08-04T13:21:28.937987800Z"
    }
   },
   "outputs": [],
   "source": []
  },
  {
   "cell_type": "code",
   "execution_count": 20,
   "id": "444a23c7",
   "metadata": {
    "ExecuteTime": {
     "end_time": "2023-08-04T13:21:28.967134900Z",
     "start_time": "2023-08-04T13:21:28.951975100Z"
    }
   },
   "outputs": [],
   "source": []
  },
  {
   "cell_type": "code",
   "execution_count": 20,
   "id": "8c2a3fd1",
   "metadata": {
    "ExecuteTime": {
     "end_time": "2023-08-04T13:21:28.992853700Z",
     "start_time": "2023-08-04T13:21:28.967134900Z"
    }
   },
   "outputs": [],
   "source": []
  },
  {
   "cell_type": "markdown",
   "id": "ec8c05da",
   "metadata": {},
   "source": [
    "# Compile The Model"
   ]
  },
  {
   "cell_type": "code",
   "execution_count": 21,
   "id": "eb657d75",
   "metadata": {
    "scrolled": false,
    "ExecuteTime": {
     "end_time": "2023-08-04T13:22:02.361244900Z",
     "start_time": "2023-08-04T13:21:28.984787300Z"
    }
   },
   "outputs": [
    {
     "name": "stdout",
     "output_type": "stream",
     "text": [
      "**** num_patches =>  17\n",
      "**** projection =>  <keras.layers.core.dense.Dense object at 0x000001DC2CEEE8B0>\n",
      "**** position_embedding =>  <keras.layers.core.embedding.Embedding object at 0x000001DC2CEEEC10>\n",
      "Tensor(\"patch_encoder/dense_4/BiasAdd:0\", shape=(None, None, 4), dtype=float32)\n",
      "****  (None, 17, 4)\n",
      "encoded_patches ==>  (None, 17, 4)\n",
      "$$$im inside the for\n",
      "$$$im inside the for\n",
      "Epoch 1/100\n",
      "**** num_patches =>  17\n",
      "**** projection =>  <keras.layers.core.dense.Dense object at 0x000001DC2CEEE8B0>\n",
      "**** position_embedding =>  <keras.layers.core.embedding.Embedding object at 0x000001DC2CEEEC10>\n",
      "Tensor(\"model/patch_encoder/dense_4/BiasAdd:0\", shape=(None, None, 4), dtype=float32)\n",
      "****  (None, 17, 4)\n",
      "**** num_patches =>  17\n",
      "**** projection =>  <keras.layers.core.dense.Dense object at 0x000001DC2CEEE8B0>\n",
      "**** position_embedding =>  <keras.layers.core.embedding.Embedding object at 0x000001DC2CEEEC10>\n",
      "Tensor(\"model/patch_encoder/dense_4/BiasAdd:0\", shape=(None, None, 4), dtype=float32)\n",
      "****  (None, 17, 4)\n",
      "30/87 [=========>....................] - ETA: 45s - loss: 14.3144 - linear_output_loss: 0.3866 - angular_output_loss: 3.4820 - linear_output_mean_squared_error: 0.3866 - angular_output_mean_squared_error: 3.4820"
     ]
    },
    {
     "ename": "KeyboardInterrupt",
     "evalue": "",
     "output_type": "error",
     "traceback": [
      "\u001B[1;31m---------------------------------------------------------------------------\u001B[0m",
      "\u001B[1;31mKeyboardInterrupt\u001B[0m                         Traceback (most recent call last)",
      "Cell \u001B[1;32mIn[21], line 46\u001B[0m\n\u001B[0;32m     42\u001B[0m     \u001B[38;5;28;01mreturn\u001B[39;00m history\n\u001B[0;32m     45\u001B[0m vit_classifier \u001B[38;5;241m=\u001B[39m create_vit_classifier()\n\u001B[1;32m---> 46\u001B[0m history \u001B[38;5;241m=\u001B[39m \u001B[43mrun_experiment\u001B[49m\u001B[43m(\u001B[49m\u001B[43mvit_classifier\u001B[49m\u001B[43m)\u001B[49m\n",
      "Cell \u001B[1;32mIn[21], line 23\u001B[0m, in \u001B[0;36mrun_experiment\u001B[1;34m(model)\u001B[0m\n\u001B[0;32m     14\u001B[0m    checkpoint_filepath \u001B[38;5;241m=\u001B[39m log_dir \u001B[38;5;241m+\u001B[39m \u001B[38;5;124m'\u001B[39m\u001B[38;5;124mep\u001B[39m\u001B[38;5;132;01m{epoch:03d}\u001B[39;00m\u001B[38;5;124m-loss\u001B[39m\u001B[38;5;132;01m{loss:.3f}\u001B[39;00m\u001B[38;5;124m-val_loss\u001B[39m\u001B[38;5;132;01m{val_loss:.3f}\u001B[39;00m\u001B[38;5;124m.h5\u001B[39m\u001B[38;5;124m'\u001B[39m\n\u001B[0;32m     15\u001B[0m    checkpoint_callback \u001B[38;5;241m=\u001B[39m keras\u001B[38;5;241m.\u001B[39mcallbacks\u001B[38;5;241m.\u001B[39mModelCheckpoint( \n\u001B[0;32m     16\u001B[0m        \u001B[38;5;66;03m#callback is an object that can perform actions at various stages of training\u001B[39;00m\n\u001B[0;32m     17\u001B[0m        checkpoint_filepath,\n\u001B[1;32m   (...)\u001B[0m\n\u001B[0;32m     20\u001B[0m        save_weights_only\u001B[38;5;241m=\u001B[39m\u001B[38;5;28;01mTrue\u001B[39;00m,\n\u001B[0;32m     21\u001B[0m    )\n\u001B[1;32m---> 23\u001B[0m    history \u001B[38;5;241m=\u001B[39m \u001B[43mmodel\u001B[49m\u001B[38;5;241;43m.\u001B[39;49m\u001B[43mfit\u001B[49m\u001B[43m(\u001B[49m\n\u001B[0;32m     24\u001B[0m \u001B[43m       \u001B[49m\u001B[43mx\u001B[49m\u001B[38;5;241;43m=\u001B[39;49m\u001B[43m[\u001B[49m\u001B[43mx_train\u001B[49m\u001B[43m,\u001B[49m\u001B[43mr_theta_data\u001B[49m\u001B[43m]\u001B[49m\u001B[43m,\u001B[49m\n\u001B[0;32m     25\u001B[0m \u001B[43m       \u001B[49m\u001B[43my\u001B[49m\u001B[38;5;241;43m=\u001B[39;49m\u001B[43m[\u001B[49m\u001B[43my_train\u001B[49m\u001B[43m[\u001B[49m\u001B[43m:\u001B[49m\u001B[43m,\u001B[49m\u001B[38;5;241;43m0\u001B[39;49m\u001B[43m,\u001B[49m\u001B[38;5;241;43m0\u001B[39;49m\u001B[43m]\u001B[49m\u001B[43m,\u001B[49m\u001B[43my_train\u001B[49m\u001B[43m[\u001B[49m\u001B[43m:\u001B[49m\u001B[43m,\u001B[49m\u001B[38;5;241;43m1\u001B[39;49m\u001B[43m,\u001B[49m\u001B[38;5;241;43m2\u001B[39;49m\u001B[43m]\u001B[49m\u001B[43m]\u001B[49m\u001B[43m,\u001B[49m\n\u001B[0;32m     26\u001B[0m \u001B[43m       \u001B[49m\u001B[43mbatch_size\u001B[49m\u001B[38;5;241;43m=\u001B[39;49m\u001B[43mbatch_size\u001B[49m\u001B[43m,\u001B[49m\n\u001B[0;32m     27\u001B[0m \u001B[43m       \u001B[49m\u001B[43mepochs\u001B[49m\u001B[38;5;241;43m=\u001B[39;49m\u001B[43mnum_epochs\u001B[49m\u001B[43m,\u001B[49m\n\u001B[0;32m     28\u001B[0m \u001B[43m       \u001B[49m\u001B[43mvalidation_data\u001B[49m\u001B[38;5;241;43m=\u001B[39;49m\u001B[43m(\u001B[49m\n\u001B[0;32m     29\u001B[0m \u001B[43m           \u001B[49m\u001B[43m[\u001B[49m\u001B[43mx_test\u001B[49m\u001B[43m,\u001B[49m\u001B[43mtest_r_theta_data\u001B[49m\u001B[43m]\u001B[49m\u001B[43m,\u001B[49m\n\u001B[0;32m     30\u001B[0m \u001B[43m           \u001B[49m\u001B[43m[\u001B[49m\u001B[43my_test\u001B[49m\u001B[43m[\u001B[49m\u001B[43m:\u001B[49m\u001B[43m,\u001B[49m\u001B[38;5;241;43m0\u001B[39;49m\u001B[43m,\u001B[49m\u001B[38;5;241;43m0\u001B[39;49m\u001B[43m]\u001B[49m\u001B[43m,\u001B[49m\u001B[43my_test\u001B[49m\u001B[43m[\u001B[49m\u001B[43m:\u001B[49m\u001B[43m,\u001B[49m\u001B[38;5;241;43m1\u001B[39;49m\u001B[43m,\u001B[49m\u001B[38;5;241;43m2\u001B[39;49m\u001B[43m]\u001B[49m\u001B[43m]\u001B[49m\n\u001B[0;32m     31\u001B[0m \u001B[43m       \u001B[49m\u001B[43m)\u001B[49m\u001B[43m,\u001B[49m\n\u001B[0;32m     32\u001B[0m \u001B[43m       \u001B[49m\u001B[43mcallbacks\u001B[49m\u001B[38;5;241;43m=\u001B[39;49m\u001B[43m[\u001B[49m\u001B[43mcheckpoint_callback\u001B[49m\u001B[43m]\u001B[49m\u001B[43m,\u001B[49m\n\u001B[0;32m     33\u001B[0m \u001B[43m       \u001B[49m\u001B[43mshuffle\u001B[49m\u001B[38;5;241;43m=\u001B[39;49m\u001B[38;5;28;43;01mFalse\u001B[39;49;00m\n\u001B[0;32m     34\u001B[0m \u001B[43m   \u001B[49m\u001B[43m)\u001B[49m\n\u001B[0;32m     36\u001B[0m    model\u001B[38;5;241m.\u001B[39mload_weights(checkpoint_filepath)\n\u001B[0;32m     37\u001B[0m \u001B[38;5;66;03m#   _, accuracy, top_5_accuracy = model.evaluate(x_test, y_test)\u001B[39;00m\n\u001B[0;32m     38\u001B[0m  \u001B[38;5;66;03m#  print(f\"Test accuracy: {round(accuracy * 100, 2)}%\")\u001B[39;00m\n\u001B[0;32m     39\u001B[0m   \u001B[38;5;66;03m# print(f\"Test top 5 accuracy: {round(top_5_accuracy * 100, 2)}%\")\u001B[39;00m\n",
      "File \u001B[1;32mG:\\Anaconda\\envs\\tensorflow\\lib\\site-packages\\keras\\utils\\traceback_utils.py:65\u001B[0m, in \u001B[0;36mfilter_traceback.<locals>.error_handler\u001B[1;34m(*args, **kwargs)\u001B[0m\n\u001B[0;32m     63\u001B[0m filtered_tb \u001B[38;5;241m=\u001B[39m \u001B[38;5;28;01mNone\u001B[39;00m\n\u001B[0;32m     64\u001B[0m \u001B[38;5;28;01mtry\u001B[39;00m:\n\u001B[1;32m---> 65\u001B[0m     \u001B[38;5;28;01mreturn\u001B[39;00m fn(\u001B[38;5;241m*\u001B[39margs, \u001B[38;5;241m*\u001B[39m\u001B[38;5;241m*\u001B[39mkwargs)\n\u001B[0;32m     66\u001B[0m \u001B[38;5;28;01mexcept\u001B[39;00m \u001B[38;5;167;01mException\u001B[39;00m \u001B[38;5;28;01mas\u001B[39;00m e:\n\u001B[0;32m     67\u001B[0m     filtered_tb \u001B[38;5;241m=\u001B[39m _process_traceback_frames(e\u001B[38;5;241m.\u001B[39m__traceback__)\n",
      "File \u001B[1;32mG:\\Anaconda\\envs\\tensorflow\\lib\\site-packages\\keras\\engine\\training.py:1685\u001B[0m, in \u001B[0;36mModel.fit\u001B[1;34m(self, x, y, batch_size, epochs, verbose, callbacks, validation_split, validation_data, shuffle, class_weight, sample_weight, initial_epoch, steps_per_epoch, validation_steps, validation_batch_size, validation_freq, max_queue_size, workers, use_multiprocessing)\u001B[0m\n\u001B[0;32m   1677\u001B[0m \u001B[38;5;28;01mwith\u001B[39;00m tf\u001B[38;5;241m.\u001B[39mprofiler\u001B[38;5;241m.\u001B[39mexperimental\u001B[38;5;241m.\u001B[39mTrace(\n\u001B[0;32m   1678\u001B[0m     \u001B[38;5;124m\"\u001B[39m\u001B[38;5;124mtrain\u001B[39m\u001B[38;5;124m\"\u001B[39m,\n\u001B[0;32m   1679\u001B[0m     epoch_num\u001B[38;5;241m=\u001B[39mepoch,\n\u001B[1;32m   (...)\u001B[0m\n\u001B[0;32m   1682\u001B[0m     _r\u001B[38;5;241m=\u001B[39m\u001B[38;5;241m1\u001B[39m,\n\u001B[0;32m   1683\u001B[0m ):\n\u001B[0;32m   1684\u001B[0m     callbacks\u001B[38;5;241m.\u001B[39mon_train_batch_begin(step)\n\u001B[1;32m-> 1685\u001B[0m     tmp_logs \u001B[38;5;241m=\u001B[39m \u001B[38;5;28;43mself\u001B[39;49m\u001B[38;5;241;43m.\u001B[39;49m\u001B[43mtrain_function\u001B[49m\u001B[43m(\u001B[49m\u001B[43miterator\u001B[49m\u001B[43m)\u001B[49m\n\u001B[0;32m   1686\u001B[0m     \u001B[38;5;28;01mif\u001B[39;00m data_handler\u001B[38;5;241m.\u001B[39mshould_sync:\n\u001B[0;32m   1687\u001B[0m         context\u001B[38;5;241m.\u001B[39masync_wait()\n",
      "File \u001B[1;32mG:\\Anaconda\\envs\\tensorflow\\lib\\site-packages\\tensorflow\\python\\util\\traceback_utils.py:150\u001B[0m, in \u001B[0;36mfilter_traceback.<locals>.error_handler\u001B[1;34m(*args, **kwargs)\u001B[0m\n\u001B[0;32m    148\u001B[0m filtered_tb \u001B[38;5;241m=\u001B[39m \u001B[38;5;28;01mNone\u001B[39;00m\n\u001B[0;32m    149\u001B[0m \u001B[38;5;28;01mtry\u001B[39;00m:\n\u001B[1;32m--> 150\u001B[0m   \u001B[38;5;28;01mreturn\u001B[39;00m fn(\u001B[38;5;241m*\u001B[39margs, \u001B[38;5;241m*\u001B[39m\u001B[38;5;241m*\u001B[39mkwargs)\n\u001B[0;32m    151\u001B[0m \u001B[38;5;28;01mexcept\u001B[39;00m \u001B[38;5;167;01mException\u001B[39;00m \u001B[38;5;28;01mas\u001B[39;00m e:\n\u001B[0;32m    152\u001B[0m   filtered_tb \u001B[38;5;241m=\u001B[39m _process_traceback_frames(e\u001B[38;5;241m.\u001B[39m__traceback__)\n",
      "File \u001B[1;32mG:\\Anaconda\\envs\\tensorflow\\lib\\site-packages\\tensorflow\\python\\eager\\polymorphic_function\\polymorphic_function.py:894\u001B[0m, in \u001B[0;36mFunction.__call__\u001B[1;34m(self, *args, **kwds)\u001B[0m\n\u001B[0;32m    891\u001B[0m compiler \u001B[38;5;241m=\u001B[39m \u001B[38;5;124m\"\u001B[39m\u001B[38;5;124mxla\u001B[39m\u001B[38;5;124m\"\u001B[39m \u001B[38;5;28;01mif\u001B[39;00m \u001B[38;5;28mself\u001B[39m\u001B[38;5;241m.\u001B[39m_jit_compile \u001B[38;5;28;01melse\u001B[39;00m \u001B[38;5;124m\"\u001B[39m\u001B[38;5;124mnonXla\u001B[39m\u001B[38;5;124m\"\u001B[39m\n\u001B[0;32m    893\u001B[0m \u001B[38;5;28;01mwith\u001B[39;00m OptionalXlaContext(\u001B[38;5;28mself\u001B[39m\u001B[38;5;241m.\u001B[39m_jit_compile):\n\u001B[1;32m--> 894\u001B[0m   result \u001B[38;5;241m=\u001B[39m \u001B[38;5;28mself\u001B[39m\u001B[38;5;241m.\u001B[39m_call(\u001B[38;5;241m*\u001B[39margs, \u001B[38;5;241m*\u001B[39m\u001B[38;5;241m*\u001B[39mkwds)\n\u001B[0;32m    896\u001B[0m new_tracing_count \u001B[38;5;241m=\u001B[39m \u001B[38;5;28mself\u001B[39m\u001B[38;5;241m.\u001B[39mexperimental_get_tracing_count()\n\u001B[0;32m    897\u001B[0m without_tracing \u001B[38;5;241m=\u001B[39m (tracing_count \u001B[38;5;241m==\u001B[39m new_tracing_count)\n",
      "File \u001B[1;32mG:\\Anaconda\\envs\\tensorflow\\lib\\site-packages\\tensorflow\\python\\eager\\polymorphic_function\\polymorphic_function.py:926\u001B[0m, in \u001B[0;36mFunction._call\u001B[1;34m(self, *args, **kwds)\u001B[0m\n\u001B[0;32m    923\u001B[0m   \u001B[38;5;28mself\u001B[39m\u001B[38;5;241m.\u001B[39m_lock\u001B[38;5;241m.\u001B[39mrelease()\n\u001B[0;32m    924\u001B[0m   \u001B[38;5;66;03m# In this case we have created variables on the first call, so we run the\u001B[39;00m\n\u001B[0;32m    925\u001B[0m   \u001B[38;5;66;03m# defunned version which is guaranteed to never create variables.\u001B[39;00m\n\u001B[1;32m--> 926\u001B[0m   \u001B[38;5;28;01mreturn\u001B[39;00m \u001B[38;5;28mself\u001B[39m\u001B[38;5;241m.\u001B[39m_no_variable_creation_fn(\u001B[38;5;241m*\u001B[39margs, \u001B[38;5;241m*\u001B[39m\u001B[38;5;241m*\u001B[39mkwds)  \u001B[38;5;66;03m# pylint: disable=not-callable\u001B[39;00m\n\u001B[0;32m    927\u001B[0m \u001B[38;5;28;01melif\u001B[39;00m \u001B[38;5;28mself\u001B[39m\u001B[38;5;241m.\u001B[39m_variable_creation_fn \u001B[38;5;129;01mis\u001B[39;00m \u001B[38;5;129;01mnot\u001B[39;00m \u001B[38;5;28;01mNone\u001B[39;00m:\n\u001B[0;32m    928\u001B[0m   \u001B[38;5;66;03m# Release the lock early so that multiple threads can perform the call\u001B[39;00m\n\u001B[0;32m    929\u001B[0m   \u001B[38;5;66;03m# in parallel.\u001B[39;00m\n\u001B[0;32m    930\u001B[0m   \u001B[38;5;28mself\u001B[39m\u001B[38;5;241m.\u001B[39m_lock\u001B[38;5;241m.\u001B[39mrelease()\n",
      "File \u001B[1;32mG:\\Anaconda\\envs\\tensorflow\\lib\\site-packages\\tensorflow\\python\\eager\\polymorphic_function\\tracing_compiler.py:143\u001B[0m, in \u001B[0;36mTracingCompiler.__call__\u001B[1;34m(self, *args, **kwargs)\u001B[0m\n\u001B[0;32m    140\u001B[0m \u001B[38;5;28;01mwith\u001B[39;00m \u001B[38;5;28mself\u001B[39m\u001B[38;5;241m.\u001B[39m_lock:\n\u001B[0;32m    141\u001B[0m   (concrete_function,\n\u001B[0;32m    142\u001B[0m    filtered_flat_args) \u001B[38;5;241m=\u001B[39m \u001B[38;5;28mself\u001B[39m\u001B[38;5;241m.\u001B[39m_maybe_define_function(args, kwargs)\n\u001B[1;32m--> 143\u001B[0m \u001B[38;5;28;01mreturn\u001B[39;00m \u001B[43mconcrete_function\u001B[49m\u001B[38;5;241;43m.\u001B[39;49m\u001B[43m_call_flat\u001B[49m\u001B[43m(\u001B[49m\n\u001B[0;32m    144\u001B[0m \u001B[43m    \u001B[49m\u001B[43mfiltered_flat_args\u001B[49m\u001B[43m,\u001B[49m\u001B[43m \u001B[49m\u001B[43mcaptured_inputs\u001B[49m\u001B[38;5;241;43m=\u001B[39;49m\u001B[43mconcrete_function\u001B[49m\u001B[38;5;241;43m.\u001B[39;49m\u001B[43mcaptured_inputs\u001B[49m\u001B[43m)\u001B[49m\n",
      "File \u001B[1;32mG:\\Anaconda\\envs\\tensorflow\\lib\\site-packages\\tensorflow\\python\\eager\\polymorphic_function\\monomorphic_function.py:1757\u001B[0m, in \u001B[0;36mConcreteFunction._call_flat\u001B[1;34m(self, args, captured_inputs, cancellation_manager)\u001B[0m\n\u001B[0;32m   1753\u001B[0m possible_gradient_type \u001B[38;5;241m=\u001B[39m gradients_util\u001B[38;5;241m.\u001B[39mPossibleTapeGradientTypes(args)\n\u001B[0;32m   1754\u001B[0m \u001B[38;5;28;01mif\u001B[39;00m (possible_gradient_type \u001B[38;5;241m==\u001B[39m gradients_util\u001B[38;5;241m.\u001B[39mPOSSIBLE_GRADIENT_TYPES_NONE\n\u001B[0;32m   1755\u001B[0m     \u001B[38;5;129;01mand\u001B[39;00m executing_eagerly):\n\u001B[0;32m   1756\u001B[0m   \u001B[38;5;66;03m# No tape is watching; skip to running the function.\u001B[39;00m\n\u001B[1;32m-> 1757\u001B[0m   \u001B[38;5;28;01mreturn\u001B[39;00m \u001B[38;5;28mself\u001B[39m\u001B[38;5;241m.\u001B[39m_build_call_outputs(\u001B[38;5;28;43mself\u001B[39;49m\u001B[38;5;241;43m.\u001B[39;49m\u001B[43m_inference_function\u001B[49m\u001B[38;5;241;43m.\u001B[39;49m\u001B[43mcall\u001B[49m\u001B[43m(\u001B[49m\n\u001B[0;32m   1758\u001B[0m \u001B[43m      \u001B[49m\u001B[43mctx\u001B[49m\u001B[43m,\u001B[49m\u001B[43m \u001B[49m\u001B[43margs\u001B[49m\u001B[43m,\u001B[49m\u001B[43m \u001B[49m\u001B[43mcancellation_manager\u001B[49m\u001B[38;5;241;43m=\u001B[39;49m\u001B[43mcancellation_manager\u001B[49m\u001B[43m)\u001B[49m)\n\u001B[0;32m   1759\u001B[0m forward_backward \u001B[38;5;241m=\u001B[39m \u001B[38;5;28mself\u001B[39m\u001B[38;5;241m.\u001B[39m_select_forward_and_backward_functions(\n\u001B[0;32m   1760\u001B[0m     args,\n\u001B[0;32m   1761\u001B[0m     possible_gradient_type,\n\u001B[0;32m   1762\u001B[0m     executing_eagerly)\n\u001B[0;32m   1763\u001B[0m forward_function, args_with_tangents \u001B[38;5;241m=\u001B[39m forward_backward\u001B[38;5;241m.\u001B[39mforward()\n",
      "File \u001B[1;32mG:\\Anaconda\\envs\\tensorflow\\lib\\site-packages\\tensorflow\\python\\eager\\polymorphic_function\\monomorphic_function.py:381\u001B[0m, in \u001B[0;36m_EagerDefinedFunction.call\u001B[1;34m(self, ctx, args, cancellation_manager)\u001B[0m\n\u001B[0;32m    379\u001B[0m \u001B[38;5;28;01mwith\u001B[39;00m _InterpolateFunctionError(\u001B[38;5;28mself\u001B[39m):\n\u001B[0;32m    380\u001B[0m   \u001B[38;5;28;01mif\u001B[39;00m cancellation_manager \u001B[38;5;129;01mis\u001B[39;00m \u001B[38;5;28;01mNone\u001B[39;00m:\n\u001B[1;32m--> 381\u001B[0m     outputs \u001B[38;5;241m=\u001B[39m \u001B[43mexecute\u001B[49m\u001B[38;5;241;43m.\u001B[39;49m\u001B[43mexecute\u001B[49m\u001B[43m(\u001B[49m\n\u001B[0;32m    382\u001B[0m \u001B[43m        \u001B[49m\u001B[38;5;28;43mstr\u001B[39;49m\u001B[43m(\u001B[49m\u001B[38;5;28;43mself\u001B[39;49m\u001B[38;5;241;43m.\u001B[39;49m\u001B[43msignature\u001B[49m\u001B[38;5;241;43m.\u001B[39;49m\u001B[43mname\u001B[49m\u001B[43m)\u001B[49m\u001B[43m,\u001B[49m\n\u001B[0;32m    383\u001B[0m \u001B[43m        \u001B[49m\u001B[43mnum_outputs\u001B[49m\u001B[38;5;241;43m=\u001B[39;49m\u001B[38;5;28;43mself\u001B[39;49m\u001B[38;5;241;43m.\u001B[39;49m\u001B[43m_num_outputs\u001B[49m\u001B[43m,\u001B[49m\n\u001B[0;32m    384\u001B[0m \u001B[43m        \u001B[49m\u001B[43minputs\u001B[49m\u001B[38;5;241;43m=\u001B[39;49m\u001B[43margs\u001B[49m\u001B[43m,\u001B[49m\n\u001B[0;32m    385\u001B[0m \u001B[43m        \u001B[49m\u001B[43mattrs\u001B[49m\u001B[38;5;241;43m=\u001B[39;49m\u001B[43mattrs\u001B[49m\u001B[43m,\u001B[49m\n\u001B[0;32m    386\u001B[0m \u001B[43m        \u001B[49m\u001B[43mctx\u001B[49m\u001B[38;5;241;43m=\u001B[39;49m\u001B[43mctx\u001B[49m\u001B[43m)\u001B[49m\n\u001B[0;32m    387\u001B[0m   \u001B[38;5;28;01melse\u001B[39;00m:\n\u001B[0;32m    388\u001B[0m     outputs \u001B[38;5;241m=\u001B[39m execute\u001B[38;5;241m.\u001B[39mexecute_with_cancellation(\n\u001B[0;32m    389\u001B[0m         \u001B[38;5;28mstr\u001B[39m(\u001B[38;5;28mself\u001B[39m\u001B[38;5;241m.\u001B[39msignature\u001B[38;5;241m.\u001B[39mname),\n\u001B[0;32m    390\u001B[0m         num_outputs\u001B[38;5;241m=\u001B[39m\u001B[38;5;28mself\u001B[39m\u001B[38;5;241m.\u001B[39m_num_outputs,\n\u001B[1;32m   (...)\u001B[0m\n\u001B[0;32m    393\u001B[0m         ctx\u001B[38;5;241m=\u001B[39mctx,\n\u001B[0;32m    394\u001B[0m         cancellation_manager\u001B[38;5;241m=\u001B[39mcancellation_manager)\n",
      "File \u001B[1;32mG:\\Anaconda\\envs\\tensorflow\\lib\\site-packages\\tensorflow\\python\\eager\\execute.py:52\u001B[0m, in \u001B[0;36mquick_execute\u001B[1;34m(op_name, num_outputs, inputs, attrs, ctx, name)\u001B[0m\n\u001B[0;32m     50\u001B[0m \u001B[38;5;28;01mtry\u001B[39;00m:\n\u001B[0;32m     51\u001B[0m   ctx\u001B[38;5;241m.\u001B[39mensure_initialized()\n\u001B[1;32m---> 52\u001B[0m   tensors \u001B[38;5;241m=\u001B[39m \u001B[43mpywrap_tfe\u001B[49m\u001B[38;5;241;43m.\u001B[39;49m\u001B[43mTFE_Py_Execute\u001B[49m\u001B[43m(\u001B[49m\u001B[43mctx\u001B[49m\u001B[38;5;241;43m.\u001B[39;49m\u001B[43m_handle\u001B[49m\u001B[43m,\u001B[49m\u001B[43m \u001B[49m\u001B[43mdevice_name\u001B[49m\u001B[43m,\u001B[49m\u001B[43m \u001B[49m\u001B[43mop_name\u001B[49m\u001B[43m,\u001B[49m\n\u001B[0;32m     53\u001B[0m \u001B[43m                                      \u001B[49m\u001B[43minputs\u001B[49m\u001B[43m,\u001B[49m\u001B[43m \u001B[49m\u001B[43mattrs\u001B[49m\u001B[43m,\u001B[49m\u001B[43m \u001B[49m\u001B[43mnum_outputs\u001B[49m\u001B[43m)\u001B[49m\n\u001B[0;32m     54\u001B[0m \u001B[38;5;28;01mexcept\u001B[39;00m core\u001B[38;5;241m.\u001B[39m_NotOkStatusException \u001B[38;5;28;01mas\u001B[39;00m e:\n\u001B[0;32m     55\u001B[0m   \u001B[38;5;28;01mif\u001B[39;00m name \u001B[38;5;129;01mis\u001B[39;00m \u001B[38;5;129;01mnot\u001B[39;00m \u001B[38;5;28;01mNone\u001B[39;00m:\n",
      "\u001B[1;31mKeyboardInterrupt\u001B[0m: "
     ]
    }
   ],
   "source": [
    "def run_experiment(model):\n",
    "    optimizer = tfa.optimizers.AdamW(\n",
    "        learning_rate=learning_rate, weight_decay=weight_decay\n",
    "    )\n",
    "#######################################################################################################################33    \n",
    "    losses={'linear_output':'mse','angular_output':'mse'}                      #########################################\n",
    "    weight={'linear_output':1,'angular_output':4}                                                                                   ################################\n",
    "    model.compile(\n",
    "        optimizer=optimizer,\n",
    "        loss=losses,\n",
    "        metrics={ 'linear_output':\"mean_squared_error\",'angular_output': \"mean_squared_error\"},loss_weights=weight)\n",
    "    \n",
    "    log_dir = ''\n",
    "    checkpoint_filepath = log_dir + 'ep{epoch:03d}-loss{loss:.3f}-val_loss{val_loss:.3f}.h5'\n",
    "    checkpoint_callback = keras.callbacks.ModelCheckpoint( \n",
    "        #callback is an object that can perform actions at various stages of training\n",
    "        checkpoint_filepath,\n",
    "        monitor=\"val_loss\",\n",
    "        save_best_only=True,\n",
    "        save_weights_only=True,\n",
    "    )\n",
    "\n",
    "    history = model.fit(\n",
    "        x=[x_train,r_theta_data],\n",
    "        y=[y_train[:,0,0],y_train[:,1,2]],\n",
    "        batch_size=batch_size,\n",
    "        epochs=num_epochs,\n",
    "        validation_data=(\n",
    "            [x_test,test_r_theta_data],\n",
    "            [y_test[:,0,0],y_test[:,1,2]]\n",
    "        ),\n",
    "        callbacks=[checkpoint_callback],\n",
    "        shuffle=False\n",
    "    )\n",
    "\n",
    "    model.load_weights(checkpoint_filepath)\n",
    " #   _, accuracy, top_5_accuracy = model.evaluate(x_test, y_test)\n",
    "  #  print(f\"Test accuracy: {round(accuracy * 100, 2)}%\")\n",
    "   # print(f\"Test top 5 accuracy: {round(top_5_accuracy * 100, 2)}%\")\n",
    "    \n",
    "    model.save('')\n",
    "    return history\n",
    "\n",
    "\n",
    "vit_classifier = create_vit_classifier()\n",
    "history = run_experiment(vit_classifier)"
   ]
  },
  {
   "cell_type": "code",
   "execution_count": null,
   "id": "3ff43c09",
   "metadata": {},
   "outputs": [],
   "source": []
  }
 ],
 "metadata": {
  "kernelspec": {
   "display_name": "python 3.9 (tensorflow)",
   "language": "python",
   "name": "tensorflow"
  },
  "language_info": {
   "codemirror_mode": {
    "name": "ipython",
    "version": 3
   },
   "file_extension": ".py",
   "mimetype": "text/x-python",
   "name": "python",
   "nbconvert_exporter": "python",
   "pygments_lexer": "ipython3",
   "version": "3.9.16"
  }
 },
 "nbformat": 4,
 "nbformat_minor": 5
}
