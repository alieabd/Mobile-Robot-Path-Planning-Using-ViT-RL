{
 "cells": [
  {
   "cell_type": "markdown",
   "id": "3779b2e3",
   "metadata": {},
   "source": [
    "### 1_np.astype(np.int32\n",
    "### 2_reshape from (160,120,3) to (120,160,3)\n",
    "### 3_layers.Normalization\n",
    "### 4_classification\n",
    "### 5_ use only rotational velocities those are less than one\n",
    "### 6_ using history of the robot's trajectory"
   ]
  },
  {
   "cell_type": "code",
   "execution_count": 1,
   "id": "7dbefbf0",
   "metadata": {
    "scrolled": true,
    "ExecuteTime": {
     "end_time": "2023-07-30T16:03:42.036483800Z",
     "start_time": "2023-07-30T16:03:42.024957300Z"
    }
   },
   "outputs": [
    {
     "name": "stdout",
     "output_type": "stream",
     "text": [
      "G:\\project\\fifth_try\\data\n"
     ]
    }
   ],
   "source": [
    "cd G:\\project\\fifth_try\\data"
   ]
  },
  {
   "cell_type": "code",
   "execution_count": 2,
   "id": "c9b101c3",
   "metadata": {
    "ExecuteTime": {
     "end_time": "2023-07-30T16:03:42.101192700Z",
     "start_time": "2023-07-30T16:03:42.035484600Z"
    }
   },
   "outputs": [
    {
     "name": "stdout",
     "output_type": "stream",
     "text": [
      " Volume in drive G is New Volume\n",
      " Volume Serial Number is BCD7-8E47\n",
      "\n",
      " Directory of G:\\project\\fifth_try\\data\n",
      "\n",
      "07/29/2023  04:49 PM    <DIR>          .\n",
      "07/30/2023  12:17 PM    <DIR>          ..\n",
      "07/28/2023  11:14 AM         1,244,952 current_pose_per_episode.npy\n",
      "07/28/2023  01:25 PM             4,216 episode_length.npy\n",
      "07/28/2023  11:14 AM    10,243,123,328 image_data_per_episode.npy\n",
      "07/28/2023  11:14 AM         1,067,120 velocity_data_per_episode.npy\n",
      "07/28/2023  07:08 PM           533,360 W_Current_pose.npy\n",
      "07/28/2023  07:08 PM             4,128 W_Episode.npy\n",
      "07/28/2023  07:08 PM    10,238,054,528 W_Image_data_per_episode.npy\n",
      "07/28/2023  07:08 PM           355,616 W_R_T_data.npy\n",
      "07/28/2023  07:22 PM            54,512 W_teest_Current_pose.npy\n",
      "07/28/2023  07:22 PM               528 W_test_Episode.npy\n",
      "07/28/2023  07:22 PM     1,044,172,928 W_test_Image_data_per_episode.npy\n",
      "07/28/2023  07:22 PM            36,384 W_test_R_T_data.npy\n",
      "07/28/2023  07:22 PM           108,896 W_test_Velocity.npy\n",
      "07/28/2023  07:08 PM         1,066,592 W_Velocity.npy\n",
      "              14 File(s) 21,529,827,088 bytes\n",
      "               2 Dir(s)  74,624,499,712 bytes free\n"
     ]
    }
   ],
   "source": [
    "ls"
   ]
  },
  {
   "cell_type": "code",
   "execution_count": 3,
   "id": "95f50e63",
   "metadata": {
    "ExecuteTime": {
     "end_time": "2023-07-30T16:03:42.880299400Z",
     "start_time": "2023-07-30T16:03:42.091689100Z"
    }
   },
   "outputs": [],
   "source": [
    "import numpy as np\n",
    "image = np.load(\"W_Image_data_per_episode.npy\",mmap_mode='c')\n",
    "episode_length = np.load(\"W_Episode.npy\",mmap_mode='c')\n",
    "velocity = np.load(\"W_Velocity.npy\",mmap_mode='c')\n",
    "r_theta_data = np.load(\"W_R_T_data.npy\",mmap_mode='c')\n",
    "\n",
    "\n",
    "test_image = np.load(\"W_test_Image_data_per_episode.npy\",mmap_mode='c')\n",
    "test_episode_length = np.load(\"W_test_Episode.npy\",mmap_mode='c')\n",
    "test_velocity = np.load(\"W_test_Velocity.npy\",mmap_mode='c')\n",
    "test_r_theta_data = np.load(\"W_test_R_T_data.npy\",mmap_mode='c')"
   ]
  },
  {
   "cell_type": "code",
   "execution_count": 4,
   "outputs": [
    {
     "data": {
      "text/plain": "(500,)"
     },
     "execution_count": 4,
     "metadata": {},
     "output_type": "execute_result"
    }
   ],
   "source": [
    "episode_length.shape"
   ],
   "metadata": {
    "collapsed": false,
    "ExecuteTime": {
     "end_time": "2023-07-30T16:03:42.896192Z",
     "start_time": "2023-07-30T16:03:42.881300200Z"
    }
   }
  },
  {
   "cell_type": "markdown",
   "id": "cb036e14",
   "metadata": {},
   "source": [
    "### astype int32"
   ]
  },
  {
   "cell_type": "code",
   "execution_count": 5,
   "id": "0d5a7e6d",
   "metadata": {
    "ExecuteTime": {
     "end_time": "2023-07-30T16:03:58.288211100Z",
     "start_time": "2023-07-30T16:03:42.897192900Z"
    }
   },
   "outputs": [],
   "source": [
    "image = image.astype(np.int32)\n",
    "test_image = test_image.astype(np.int32)"
   ]
  },
  {
   "cell_type": "markdown",
   "id": "e2761c05",
   "metadata": {},
   "source": [
    "### Reshape"
   ]
  },
  {
   "cell_type": "code",
   "execution_count": 6,
   "id": "9e27e48c",
   "metadata": {
    "ExecuteTime": {
     "end_time": "2023-07-30T16:03:58.325608300Z",
     "start_time": "2023-07-30T16:03:58.312514500Z"
    }
   },
   "outputs": [],
   "source": [
    "image = np.reshape(image,[22218,120,160,3])\n",
    "test_image = np.reshape(test_image,[2266,120,160,3])"
   ]
  },
  {
   "cell_type": "code",
   "execution_count": 7,
   "id": "94760246",
   "metadata": {
    "ExecuteTime": {
     "end_time": "2023-07-30T16:03:58.335875400Z",
     "start_time": "2023-07-30T16:03:58.326600100Z"
    }
   },
   "outputs": [],
   "source": [
    "image_array = image[18345]"
   ]
  },
  {
   "cell_type": "code",
   "execution_count": 8,
   "id": "754b0353",
   "metadata": {
    "ExecuteTime": {
     "end_time": "2023-07-30T16:03:59.394268500Z",
     "start_time": "2023-07-30T16:03:58.349396700Z"
    }
   },
   "outputs": [
    {
     "data": {
      "text/plain": "<Figure size 640x480 with 1 Axes>",
      "image/png": "[encoded data removed]"
     },
     "metadata": {},
     "output_type": "display_data"
    }
   ],
   "source": [
    "import matplotlib.pyplot as plt\n",
    "plt.imshow(image_array)\n",
    "plt.axis('off')  # Optional: turn off axis ticks and labels\n",
    "plt.show()"
   ]
  },
  {
   "cell_type": "markdown",
   "id": "c2f8e3bd",
   "metadata": {},
   "source": [
    "### rounding velocity"
   ]
  },
  {
   "cell_type": "code",
   "execution_count": 9,
   "id": "68b8f5fd",
   "metadata": {
    "ExecuteTime": {
     "end_time": "2023-07-30T16:03:59.408975100Z",
     "start_time": "2023-07-30T16:03:59.394268500Z"
    }
   },
   "outputs": [],
   "source": [
    "velocity = np.around(velocity,decimals=1)\n",
    "#r_theta_data = np.around(r_theta_data,decimals=2)\n",
    "\n",
    "\n",
    "test_velocity = np.around(test_velocity,decimals=1)\n",
    "#test_r_theta_data = np.around(test_r_theta_data,decimals=2)"
   ]
  },
  {
   "cell_type": "code",
   "execution_count": 10,
   "id": "628814f9",
   "metadata": {
    "ExecuteTime": {
     "end_time": "2023-07-30T16:03:59.460643500Z",
     "start_time": "2023-07-30T16:03:59.420489600Z"
    }
   },
   "outputs": [],
   "source": [
    "greater_than_one = []\n",
    "for i in range(len(velocity)):\n",
    "    if abs(velocity[:,1,2][i])>=1.0:\n",
    "        greater_than_one.append(i)\n",
    "\n",
    "greater_than_one_test = []\n",
    "for i in range(len(test_velocity)):\n",
    "    if abs(test_velocity[:,1,2][i])>=1.0:\n",
    "        greater_than_one_test.append(i)"
   ]
  },
  {
   "cell_type": "markdown",
   "id": "730f0dc0",
   "metadata": {},
   "source": [
    "#### delete data"
   ]
  },
  {
   "cell_type": "code",
   "execution_count": 11,
   "id": "8fac737a",
   "metadata": {
    "ExecuteTime": {
     "end_time": "2023-07-30T16:04:22.517419100Z",
     "start_time": "2023-07-30T16:03:59.425492700Z"
    }
   },
   "outputs": [],
   "source": [
    "velocity = np.delete(velocity,greater_than_one,axis=0)\n",
    "test_velocity = np.delete(test_velocity,greater_than_one_test,axis=0)\n",
    "\n",
    "\n",
    "image = np.delete(image,greater_than_one,axis=0)\n",
    "test_image = np.delete(test_image,greater_than_one_test,axis=0)\n",
    "\n",
    "r_theta_data = np.delete(r_theta_data,greater_than_one,axis=0)\n",
    "test_r_theta_data = np.delete(test_r_theta_data,greater_than_one_test,axis=0)"
   ]
  },
  {
   "cell_type": "code",
   "execution_count": 11,
   "id": "77569cd9",
   "metadata": {
    "ExecuteTime": {
     "end_time": "2023-07-30T16:04:22.564485700Z",
     "start_time": "2023-07-30T16:04:22.542939800Z"
    }
   },
   "outputs": [],
   "source": []
  },
  {
   "cell_type": "markdown",
   "id": "6bbcb1af",
   "metadata": {},
   "source": [
    "# import required libraries"
   ]
  },
  {
   "cell_type": "code",
   "execution_count": 12,
   "id": "0f560316",
   "metadata": {
    "scrolled": false,
    "ExecuteTime": {
     "end_time": "2023-07-30T16:04:29.724422400Z",
     "start_time": "2023-07-30T16:04:22.603564100Z"
    }
   },
   "outputs": [
    {
     "name": "stderr",
     "output_type": "stream",
     "text": [
      "G:\\Anaconda\\envs\\tensorflow\\lib\\site-packages\\tensorflow_addons\\utils\\tfa_eol_msg.py:23: UserWarning: \n",
      "\n",
      "TensorFlow Addons (TFA) has ended development and introduction of new features.\n",
      "TFA has entered a minimal maintenance and release mode until a planned end of life in May 2024.\n",
      "Please modify downstream libraries to take dependencies from other repositories in our TensorFlow community (e.g. Keras, Keras-CV, and Keras-NLP). \n",
      "\n",
      "For more information see: https://github.com/tensorflow/addons/issues/2807 \n",
      "\n",
      "  warnings.warn(\n"
     ]
    }
   ],
   "source": [
    "from tensorflow.keras.layers import Activation , concatenate\n",
    "import tensorflow as tf\n",
    "from tensorflow import keras\n",
    "from tensorflow.keras import layers\n",
    "#pip install tensorflow-addons\n",
    "import tensorflow_addons as tfa"
   ]
  },
  {
   "cell_type": "markdown",
   "id": "7a6b2c96",
   "metadata": {},
   "source": [
    "# Prepare The Data"
   ]
  },
  {
   "cell_type": "code",
   "execution_count": 13,
   "id": "32980978",
   "metadata": {
    "ExecuteTime": {
     "end_time": "2023-07-30T16:04:29.799556Z",
     "start_time": "2023-07-30T16:04:29.729744600Z"
    }
   },
   "outputs": [
    {
     "name": "stdout",
     "output_type": "stream",
     "text": [
      "x_train shape: (22153, 120, 160, 3) - y_train shape: (22153, 2, 3)\n"
     ]
    }
   ],
   "source": [
    "input_shape = (120, 160, 3)\n",
    "#linear ==> 7\n",
    "#angular ==> 34\n",
    "num_classes_linear = 7\n",
    "num_classes_angular = 11\n",
    "x_train = image\n",
    "y_train = velocity\n",
    "\n",
    "x_test = test_image\n",
    "y_test = test_velocity\n",
    "print(f\"x_train shape: {x_train.shape} - y_train shape: {y_train.shape}\")\n"
   ]
  },
  {
   "cell_type": "markdown",
   "id": "b2d2e715",
   "metadata": {},
   "source": [
    "# configuring the hyperparameters"
   ]
  },
  {
   "cell_type": "code",
   "execution_count": 14,
   "id": "76ba3c48",
   "metadata": {
    "ExecuteTime": {
     "end_time": "2023-07-30T16:04:29.815582100Z",
     "start_time": "2023-07-30T16:04:29.742269100Z"
    }
   },
   "outputs": [],
   "source": [
    "learning_rate = 0.01 # used to be 0.01\n",
    "weight_decay = 0.0001\n",
    "batch_size = 32\n",
    "num_epochs = 100\n",
    "image_size = 256  # We'll resize input images to this size\n",
    "patch_size = 64  # Size of the patches to be extract from the input images  ==> used to be 32\n",
    "num_patches = (image_size // patch_size) ** 2\n",
    "projection_dim = 64\n",
    "num_heads = 4\n",
    "transformer_units = [\n",
    "    projection_dim * 2,\n",
    "    projection_dim,\n",
    "]  # Size of the transformer layers\n",
    "transformer_layers = 2\n",
    "mlp_head_units = [2048, 1024]  # Size of the dense layers of the final classifier"
   ]
  },
  {
   "cell_type": "markdown",
   "id": "a169d546",
   "metadata": {},
   "source": [
    "# data augmentation"
   ]
  },
  {
   "cell_type": "code",
   "execution_count": 15,
   "id": "be12f4ba",
   "metadata": {
    "ExecuteTime": {
     "end_time": "2023-07-30T16:04:37.401411Z",
     "start_time": "2023-07-30T16:04:29.760433900Z"
    }
   },
   "outputs": [],
   "source": [
    "data_augmentation = keras.Sequential(\n",
    "    [\n",
    "        layers.Normalization(),\n",
    "        layers.Resizing(image_size, image_size),\n",
    "        #layers.RandomFlip(\"horizontal\"),\n",
    "        #layers.RandomRotation(factor=0.02),\n",
    "        #layers.RandomZoom(\n",
    "        #    height_factor=0.2, width_factor=0.2\n",
    "        #),\n",
    "    ],\n",
    "    name=\"data_augmentation\",\n",
    ")\n",
    "# Compute the mean and the variance of the training data for normalization.\n",
    "data_augmentation.layers[0].adapt(x_train)"
   ]
  },
  {
   "cell_type": "markdown",
   "id": "d42b3c37",
   "metadata": {},
   "source": [
    "# Implement multilayer perceptron (MLP)\n",
    "\n",
    "\n",
    "\n",
    "#### using multiple Dense layer"
   ]
  },
  {
   "cell_type": "code",
   "execution_count": 16,
   "id": "f98cdeb5",
   "metadata": {
    "ExecuteTime": {
     "end_time": "2023-07-30T16:04:37.486511700Z",
     "start_time": "2023-07-30T16:04:37.481435300Z"
    }
   },
   "outputs": [],
   "source": [
    "def mlp(x, hidden_units, dropout_rate):\n",
    "    for units in hidden_units:\n",
    "        x = layers.Dense(units, activation=tf.nn.gelu)(x)\n",
    "        x = layers.Dropout(dropout_rate)(x)\n",
    "    return x\n"
   ]
  },
  {
   "cell_type": "markdown",
   "id": "0e296189",
   "metadata": {},
   "source": [
    "# Implement patch creation as a layer"
   ]
  },
  {
   "cell_type": "code",
   "execution_count": 17,
   "id": "d35b2f8e",
   "metadata": {
    "ExecuteTime": {
     "end_time": "2023-07-30T16:04:37.491515800Z",
     "start_time": "2023-07-30T16:04:37.485513400Z"
    }
   },
   "outputs": [],
   "source": [
    "\n",
    "#Goal MLP\n",
    "#Goal is sth like np.array([[1,2]])\n",
    "'''\n",
    "Goal = mlp(goal,[16,64,192]) #shape=(1, 192)\n",
    "tf.reshape(Goal,[6,6,3])\n",
    "'''\n",
    "#use it alongside image patches\n",
    "\n",
    "class Patches(layers.Layer):\n",
    "    def __init__(self, patch_size):\n",
    "        super().__init__()\n",
    "        self.patch_size = patch_size\n",
    "\n",
    "    def call(self, images):\n",
    "        batch_size = tf.shape(images)[0]\n",
    "        #print(\"batch_size ==> \",batch_size)\n",
    "        patches = tf.image.extract_patches(\n",
    "            images=images,\n",
    "            sizes=[1, self.patch_size, self.patch_size, 1],\n",
    "            strides=[1, self.patch_size, self.patch_size, 1],\n",
    "            rates=[1, 1, 1, 1],\n",
    "            padding=\"VALID\",\n",
    "        )\n",
    "        \n",
    "        #3072/3=1024\n",
    "        #sqrt(1024) = 32\n",
    "        #32*8=256\n",
    "        #print('$$patch_size$$ ',patches.shape) #(None, 8, 8, 3072)\n",
    "        patch_dims = patches.shape[-1]\n",
    "        patches = tf.reshape(patches, [batch_size, -1, patch_dims])\n",
    "        #print('$$patch_size2$$ ',patches.shape)\n",
    "        return patches"
   ]
  },
  {
   "cell_type": "markdown",
   "id": "004a2fe6",
   "metadata": {},
   "source": [
    "# Implement the patch encoding layer\n",
    "\n",
    "##### --> linearly transform a patch by projecting it into a vector of size projection_dim. \n",
    "##### --> it adds a learnable position embedding to the projected vector"
   ]
  },
  {
   "cell_type": "code",
   "execution_count": 33,
   "id": "9aa54ea3",
   "metadata": {
    "ExecuteTime": {
     "end_time": "2023-07-30T16:13:18.247285800Z",
     "start_time": "2023-07-30T16:13:18.234730200Z"
    }
   },
   "outputs": [],
   "source": [
    "class PatchEncoder(layers.Layer):\n",
    "    def __init__(self, num_patches, projection_dim):\n",
    "        super().__init__()\n",
    "        self.num_patches = num_patches\n",
    "        self.projection = layers.Dense(units=projection_dim) #Linear Projection Of Patch-Tockens\n",
    "        self.position_embedding = layers.Embedding(\n",
    "            input_dim=num_patches, output_dim=projection_dim\n",
    "        )\n",
    "        \n",
    "        #input_dim ==> encoding number 0 to num_patches -1\n",
    "        #output_dim ==> self explanatary -> turns every input to output_dim\n",
    "        #input_length ==> the Maximum length of input sequence \n",
    "        '''\n",
    "        input_dim=10 ==> each word in input\n",
    "        output_dim=4\n",
    "        input_length=2\n",
    "        \n",
    "        >> input_data = np.array([[1,2]])\n",
    "        input ->(1, 2)\n",
    "        output ->[[[ 0.04502351  0.00151128  0.01764284 -0.0089057 ]\n",
    "                    [-0.04007018  0.02874336  0.02772436  0.00842067]]]\n",
    "        '''\n",
    "\n",
    "        \n",
    "        \n",
    "    def call(self, patch):\n",
    "\n",
    "        positions = tf.range(start=0, limit=self.num_patches, delta=1)\n",
    "        encoded = self.projection(patch) + self.position_embedding(positions)\n",
    "        \n",
    "        return encoded"
   ]
  },
  {
   "cell_type": "markdown",
   "id": "1b156adc",
   "metadata": {},
   "source": []
  },
  {
   "cell_type": "code",
   "execution_count": 19,
   "id": "1ed16ab6",
   "metadata": {
    "ExecuteTime": {
     "end_time": "2023-07-30T16:04:37.499551800Z",
     "start_time": "2023-07-30T16:04:37.491515800Z"
    }
   },
   "outputs": [
    {
     "data": {
      "text/plain": "memmap([   42.,    92.,   143.,   196.,   246.,   297.,   358.,   420.,\n          483.,   533.,   587.,   656.,   717.,   768.,   819.,   878.,\n          923.,   993.,  1045.,  1105.,  1152.,  1194.,  1243.,  1284.,\n         1319.,  1364.,  1396.,  1434.,  1467.,  1510.,  1548.,  1586.,\n         1631.,  1680.,  1719.,  1750.,  1812.,  1841.,  1884.,  1910.,\n         1934.,  1955.,  1981.,  2010.,  2045.,  2070.,  2099.,  2127.,\n         2156.,  2182.,  2222.,  2273.,  2323.,  2369.,  2432.,  2496.,\n         2552.,  2632.,  2687.,  2758.,  2806.,  2854.,  2916.,  2962.,\n         3012.,  3079.,  3132.,  3176.,  3221.,  3270.,  3321.,  3364.,\n         3430.,  3458.,  3493.,  3527.,  3556.,  3592.,  3622.,  3654.,\n         3685.,  3720.,  3751.,  3786.,  3819.,  3847.,  3885.,  3917.,\n         3945.,  3976.,  4020.,  4061.,  4097.,  4126.,  4161.,  4192.,\n         4224.,  4262.,  4294.,  4330.,  4372.,  4425.,  4493.,  4554.,\n         4614.,  4665.,  4736.,  4807.,  4858.,  4928.,  4991.,  5041.,\n         5088.,  5134.,  5175.,  5231.,  5274.,  5313.,  5362.,  5396.,\n         5447.,  5503.,  5570.,  5615.,  5667.,  5711.,  5756.,  5801.,\n         5838.,  5884.,  5919.,  5957.,  6002.,  6036.,  6063.,  6091.,\n         6126.,  6161.,  6188.,  6216.,  6247.,  6293.,  6322.,  6354.,\n         6388.,  6415.,  6442.,  6479.,  6504.,  6534.,  6584.,  6647.,\n         6721.,  6793.,  6872.,  6920.,  6989.,  7065.,  7123.,  7193.,\n         7241.,  7305.,  7368.,  7419.,  7470.,  7506.,  7557.,  7599.,\n         7649.,  7701.,  7738.,  7798.,  7842.,  7893.,  7936.,  7973.,\n         8003.,  8043.,  8082.,  8129.,  8168.,  8218.,  8251.,  8284.,\n         8320.,  8351.,  8386.,  8416.,  8447.,  8477.,  8501.,  8536.,\n         8567.,  8610.,  8641.,  8674.,  8694.,  8715.,  8738.,  8760.,\n         8818.,  8876.,  8927.,  8996.,  9070.,  9119.,  9187.,  9258.,\n         9316.,  9379.,  9445.,  9500.,  9553.,  9612.,  9673.,  9724.,\n         9765.,  9807.,  9857.,  9912.,  9970., 10019., 10076., 10127.,\n        10178., 10217., 10259., 10296., 10329., 10369., 10406., 10446.,\n        10481., 10518., 10549., 10579., 10615., 10658., 10687., 10720.,\n        10754., 10798., 10830., 10878., 10908., 10938., 10959., 10986.,\n        11016., 11049., 11094., 11163., 11232., 11281., 11342., 11405.,\n        11483., 11571., 11662., 11716., 11783., 11840., 11903., 11965.,\n        12016., 12085., 12132., 12178., 12229., 12270., 12303., 12349.,\n        12393., 12451., 12496., 12542., 12583., 12627., 12663., 12699.,\n        12730., 12757., 12790., 12824., 12852., 12892., 12920., 12945.,\n        12969., 12996., 13047., 13074., 13104., 13136., 13174., 13199.,\n        13224., 13252., 13281., 13307., 13349., 13409., 13457., 13524.,\n        13573., 13629., 13672., 13720., 13767., 13834., 13896., 13973.,\n        14020., 14068., 14134., 14193., 14240., 14295., 14351., 14395.,\n        14434., 14468., 14498., 14532., 14569., 14602., 14658., 14699.,\n        14743., 14776., 14808., 14845., 14887., 14915., 14951., 14979.,\n        15011., 15049., 15077., 15105., 15137., 15168., 15206., 15235.,\n        15261., 15295., 15334., 15363., 15407., 15443., 15495., 15570.,\n        15633., 15708., 15771., 15820., 15865., 15903., 15949., 15991.,\n        16024., 16067., 16149., 16223., 16291., 16350., 16396., 16450.,\n        16506., 16553., 16620., 16668., 16714., 16783., 16832., 16874.,\n        16916., 16962., 17002., 17049., 17091., 17132., 17166., 17197.,\n        17242., 17276., 17309., 17347., 17396., 17426., 17451., 17491.,\n        17524., 17560., 17590., 17627., 17659., 17694., 17731., 17772.,\n        17812., 17866., 17927., 17985., 18047., 18105., 18183., 18252.,\n        18317., 18377., 18450., 18513., 18571., 18633., 18685., 18731.,\n        18779., 18818., 18859., 18895., 18943., 18985., 19018., 19061.,\n        19096., 19128., 19168., 19206., 19249., 19285., 19319., 19359.,\n        19389., 19430., 19472., 19498., 19532., 19562., 19598., 19624.,\n        19661., 19706., 19734., 19777., 19806., 19839., 19869., 19898.,\n        19923., 19953., 20007., 20061., 20136., 20196., 20274., 20323.,\n        20380., 20452., 20522., 20591., 20651., 20692., 20761., 20810.,\n        20853., 20894., 20949., 21007., 21071., 21121., 21172., 21216.,\n        21260., 21301., 21349., 21414., 21466., 21502., 21536., 21570.,\n        21604., 21657., 21696., 21731., 21765., 21798., 21830., 21873.,\n        21910., 21939., 21970., 21992., 22021., 22047., 22070., 22096.,\n        22125., 22160., 22190., 22218.])"
     },
     "execution_count": 19,
     "metadata": {},
     "output_type": "execute_result"
    }
   ],
   "source": [
    "episode_length"
   ]
  },
  {
   "cell_type": "markdown",
   "id": "bd6daa07",
   "metadata": {},
   "source": [
    "# Incremantal Inputs for Vit"
   ]
  },
  {
   "cell_type": "code",
   "execution_count": 31,
   "id": "57037c4d",
   "metadata": {
    "ExecuteTime": {
     "end_time": "2023-07-30T16:12:35.071336500Z",
     "start_time": "2023-07-30T16:12:35.048126700Z"
    }
   },
   "outputs": [],
   "source": [
    "def create_vit_classifier():\n",
    "    image_input = layers.Input(shape=input_shape)\n",
    "    relative_distance_input = layers.Input(shape=(2,))\n",
    "    prev_images_input = layers.Input(shape=(None,) + input_shape)\n",
    "    prev_relative_distances_input = layers.Input(shape=(None, 2))\n",
    "\n",
    "    # Augment data.\n",
    "    augmented = data_augmentation(image_input)\n",
    "\n",
    "    # Create patches.\n",
    "    patches = Patches(patch_size)(augmented)\n",
    "\n",
    "    # Add Goal to Patches\n",
    "    Goal = mlp(relative_distance_input, [32, 512, 3072, 12288], dropout_rate=0.05)\n",
    "    Goal = tf.expand_dims(Goal, axis=1)\n",
    "\n",
    "    # Concatenate Goal with patches\n",
    "    print(f'Goal ==> {Goal.shape}')\n",
    "    print(f'Patches ==> {patches.shape}')\n",
    "    patches = tf.keras.layers.Concatenate(axis=1)([Goal, patches])\n",
    "\n",
    "    # Encode patches.\n",
    "    encoded_patches = PatchEncoder(num_patches+1, projection_dim)(patches)\n",
    "\n",
    "    # Create multiple layers of the Transformer block.\n",
    "    for _ in range(transformer_layers):\n",
    "        # Layer normalization 1.\n",
    "        x1 = layers.LayerNormalization(epsilon=1e-6)(encoded_patches)\n",
    "        # Create a multi-head attention layer.\n",
    "        attention_output = layers.MultiHeadAttention(\n",
    "            num_heads=num_heads, key_dim=projection_dim, dropout=0.1\n",
    "        )(x1, x1)\n",
    "        # Skip connection 1.\n",
    "        x2 = layers.Add()([attention_output, encoded_patches])\n",
    "\n",
    "        # Layer normalization 2.\n",
    "        x3 = layers.LayerNormalization(epsilon=1e-6)(x2)\n",
    "        # MLP.\n",
    "        x3 = mlp(x3, hidden_units=transformer_units, dropout_rate=0.1)\n",
    "        # Skip connection 2.\n",
    "        encoded_patches = layers.Add()([x3, x2])\n",
    "\n",
    "    # Create a [batch_size, projection_dim] tensor.\n",
    "    representation = layers.LayerNormalization(epsilon=1e-6)(encoded_patches)\n",
    "    representation = layers.Flatten()(representation)\n",
    "    representation = layers.Dropout(0.2)(representation)\n",
    "\n",
    "    #1\n",
    "    # Concatenate previous representations with masking\n",
    "    #prev_representations = layers.Masking()(prev_images_input)\n",
    "    #prev_representations = layers.Concatenate(axis=-1)([prev_representations, prev_relative_distances_input])\n",
    "\n",
    "    #2\n",
    "\n",
    "    #prev_representations = layers.TimeDistributed(layers.Masking())(prev_images_input)\n",
    "    #prev_representations = layers.Concatenate(axis=-1)([prev_representations, prev_relative_distances_input])\n",
    "\n",
    "\n",
    "    #3\n",
    "    print(\"@@@ before prev_representation@@@\")\n",
    "    #prev_relative_distances_rep = tf.expand_dims(prev_relative_distances_input, axis=-2)\n",
    "    #prev_relative_distances_rep = tf.expand_dims(prev_relative_distances_rep, axis=-2)\n",
    "    #prev_representations = layers.Concatenate(1)([prev_images_input, prev_relative_distances_rep])\n",
    "    print(\"^^^^^^ after prev_representation ^^^^^^\")\n",
    "\n",
    "    # Add MLP.\n",
    "    features = mlp(representation, hidden_units=mlp_head_units, dropout_rate=0.1)\n",
    "    \n",
    "    # Concatenate features with previous representations\n",
    "    features = layers.RepeatVector(tf.shape(prev_representations)[1])(features)\n",
    "    features = layers.Concatenate(axis=-1)([prev_representations, features])\n",
    "    \n",
    "    logits_linear = layers.Dense(num_classes_linear, activation='softmax', name='linear')(features)\n",
    "    logits_angular = layers.Dense(num_classes_angular, activation='softmax', name='angular')(features)\n",
    "    \n",
    "    # Create the Keras model\n",
    "    model = keras.Model(inputs=[image_input, relative_distance_input, prev_images_input, prev_relative_distances_input],\n",
    "                        outputs=[logits_linear, logits_angular])\n",
    "    \n",
    "    return model\n"
   ]
  },
  {
   "cell_type": "code",
   "execution_count": 20,
   "id": "0d5fc479",
   "metadata": {
    "ExecuteTime": {
     "end_time": "2023-07-30T16:04:37.577254600Z",
     "start_time": "2023-07-30T16:04:37.503550900Z"
    }
   },
   "outputs": [],
   "source": []
  },
  {
   "cell_type": "code",
   "execution_count": 20,
   "id": "459b8717",
   "metadata": {
    "ExecuteTime": {
     "end_time": "2023-07-30T16:04:37.602098600Z",
     "start_time": "2023-07-30T16:04:37.518675900Z"
    }
   },
   "outputs": [],
   "source": []
  },
  {
   "cell_type": "markdown",
   "id": "82eb3403",
   "metadata": {},
   "source": [
    "# Digitalize"
   ]
  },
  {
   "cell_type": "code",
   "execution_count": 21,
   "outputs": [
    {
     "name": "stdout",
     "output_type": "stream",
     "text": [
      "linear ===> [-0.2 -0.1  0.   0.1  0.2  0.3]\n",
      "angular ===> [-0.9 -0.8 -0.7 -0.6 -0.5 -0.4 -0.3 -0.2 -0.1 -0.   0.1  0.2  0.3  0.4\n",
      "  0.5  0.6  0.7  0.8  0.9]\n"
     ]
    }
   ],
   "source": [
    "print(f'linear ===> {np.unique(y_train[:, 0, 0])}')\n",
    "print(f'angular ===> {np.unique(y_train[:, 1, 2])}')"
   ],
   "metadata": {
    "collapsed": false,
    "ExecuteTime": {
     "end_time": "2023-07-30T16:04:37.603096800Z",
     "start_time": "2023-07-30T16:04:37.534183800Z"
    }
   }
  },
  {
   "cell_type": "code",
   "execution_count": 22,
   "id": "a86eb687",
   "metadata": {
    "ExecuteTime": {
     "end_time": "2023-07-30T16:04:37.604613400Z",
     "start_time": "2023-07-30T16:04:37.583243700Z"
    }
   },
   "outputs": [],
   "source": [
    "\n",
    "# Define velocity ranges and corresponding class labels\n",
    "velocity_ranges_linear = [ -0.2, -0.1,  0. ,  0.1,  0.2,  0.3]\n",
    "velocity_ranges_angular = [-0.9, -0.7, -0.5, -0.3, -0.1,  0. ,  0.1,\n",
    "          0.3,  0.5,  0.7,  0.9]\n",
    "\n",
    "num_classes_linear = len(velocity_ranges_linear) \n",
    "num_classes_angular = len(velocity_ranges_angular) \n",
    "\n",
    "# Convert continuous velocity values into categorical labels\n",
    "y_train_categorical_linear = np.digitize(y_train[:, 0, 0], velocity_ranges_linear)\n",
    "y_train_categorical_angular = np.digitize(y_train[:, 1, 2], velocity_ranges_angular)\n",
    "y_test_categorical_linear = np.digitize(y_test[:, 0, 0], velocity_ranges_linear)\n",
    "y_test_categorical_angular = np.digitize(y_test[:, 1, 2], velocity_ranges_angular)\n"
   ]
  },
  {
   "cell_type": "code",
   "execution_count": 23,
   "id": "9e4674d9",
   "metadata": {
    "ExecuteTime": {
     "end_time": "2023-07-30T16:04:37.655325600Z",
     "start_time": "2023-07-30T16:04:37.596087200Z"
    }
   },
   "outputs": [],
   "source": [
    "y_train_categorical_linear-=1\n",
    "y_train_categorical_angular-=1\n",
    "y_test_categorical_linear-=1\n",
    "y_test_categorical_angular-=1"
   ]
  },
  {
   "cell_type": "markdown",
   "id": "ec8c05da",
   "metadata": {},
   "source": [
    "# Compile The Model Using fit"
   ]
  },
  {
   "cell_type": "code",
   "execution_count": 24,
   "id": "eb657d75",
   "metadata": {
    "scrolled": false,
    "ExecuteTime": {
     "end_time": "2023-07-30T08:12:38.285786100Z",
     "start_time": "2023-07-30T08:12:37.064096300Z"
    }
   },
   "outputs": [
    {
     "ename": "TypeError",
     "evalue": "create_vit_classifier() takes 0 positional arguments but 1 was given",
     "output_type": "error",
     "traceback": [
      "\u001B[1;31m---------------------------------------------------------------------------\u001B[0m",
      "\u001B[1;31mTypeError\u001B[0m                                 Traceback (most recent call last)",
      "Cell \u001B[1;32mIn[24], line 77\u001B[0m\n\u001B[0;32m     74\u001B[0m     \u001B[38;5;28;01mreturn\u001B[39;00m history\n\u001B[0;32m     76\u001B[0m max_len \u001B[38;5;241m=\u001B[39m \u001B[38;5;28mmax\u001B[39m(episode_length)\n\u001B[1;32m---> 77\u001B[0m vit_classifier \u001B[38;5;241m=\u001B[39m \u001B[43mcreate_vit_classifier\u001B[49m\u001B[43m(\u001B[49m\u001B[43mmax_len\u001B[49m\u001B[43m)\u001B[49m\n\u001B[0;32m     78\u001B[0m history \u001B[38;5;241m=\u001B[39m run_experiment(vit_classifier)\n",
      "\u001B[1;31mTypeError\u001B[0m: create_vit_classifier() takes 0 positional arguments but 1 was given"
     ]
    }
   ],
   "source": [
    "def run_experiment(model):\n",
    "    optimizer = tfa.optimizers.AdamW(\n",
    "        learning_rate=learning_rate, weight_decay=weight_decay\n",
    "    )\n",
    "\n",
    "    losses = {\n",
    "        \"linear\": keras.losses.SparseCategoricalCrossentropy(from_logits=False),\n",
    "        \"angular\": keras.losses.SparseCategoricalCrossentropy(from_logits=False)\n",
    "    }\n",
    "    loss_weights = {\n",
    "        \"linear\": 1.0,\n",
    "        \"angular\": 4.0\n",
    "    }\n",
    "    metrics = {\n",
    "        \"linear\": [\n",
    "            keras.metrics.SparseCategoricalAccuracy(name=\"linear_accuracy\"),\n",
    "            keras.metrics.SparseTopKCategoricalAccuracy(5, name=\"linear_top-5-accuracy\")\n",
    "        ],\n",
    "        \"angular\": [\n",
    "            keras.metrics.SparseCategoricalAccuracy(name=\"angular_accuracy\"),\n",
    "            keras.metrics.SparseTopKCategoricalAccuracy(5, name=\"angular_top-5-accuracy\")\n",
    "        ]\n",
    "    }\n",
    "\n",
    "    model.compile(\n",
    "        optimizer=optimizer,\n",
    "        loss=losses,\n",
    "        metrics=metrics\n",
    "    )\n",
    "\n",
    "    log_dir = ''\n",
    "    checkpoint_filepath = log_dir + 'ep{epoch:03d}-loss{loss:.3f}-val_loss{val_loss:.3f}.h5'\n",
    "    checkpoint_callback = keras.callbacks.ModelCheckpoint(\n",
    "        checkpoint_filepath,\n",
    "        monitor=\"val_loss\",\n",
    "        save_best_only=True,\n",
    "        save_weights_only=True,\n",
    "    )\n",
    "\n",
    "    history = []\n",
    "    prev_images = None\n",
    "    prev_relative_distances = None\n",
    "\n",
    "    for i in range(len(x_train)):\n",
    "        current_image = x_train[i]\n",
    "        current_relative_distance = r_theta_data[i]\n",
    "\n",
    "        if prev_images is None:\n",
    "            prev_images = current_image[np.newaxis, :]\n",
    "            prev_relative_distances = current_relative_distance[np.newaxis, :]\n",
    "        else:\n",
    "            prev_images = np.concatenate([prev_images, current_image[np.newaxis, :]], axis=0)\n",
    "            prev_relative_distances = np.concatenate([prev_relative_distances, current_relative_distance[np.newaxis, :]], axis=0)\n",
    "\n",
    "        model.fit(\n",
    "            x=[current_image[np.newaxis, :], current_relative_distance[np.newaxis, :], prev_images, prev_relative_distances],\n",
    "            y=[y_train_categorical_linear[i][np.newaxis], y_train_categorical_angular[i][np.newaxis]],\n",
    "            batch_size=batch_size,\n",
    "            epochs=num_epochs,\n",
    "            validation_data=(\n",
    "                [x_test, test_r_theta_data, prev_images, prev_relative_distances],\n",
    "                [y_test_categorical_linear, y_test_categorical_angular]\n",
    "            ),\n",
    "            callbacks=[checkpoint_callback],\n",
    "            shuffle=False\n",
    "        )\n",
    "\n",
    "        model.load_weights(checkpoint_filepath)\n",
    "\n",
    "        model.save('')\n",
    "\n",
    "        history.append(model.history)\n",
    "\n",
    "    return history\n",
    "\n",
    "max_len = max(episode_length)\n",
    "vit_classifier = create_vit_classifier(max_len)\n",
    "history = run_experiment(vit_classifier)\n"
   ]
  },
  {
   "cell_type": "markdown",
   "source": [
    "# Compile The Model Using fit_generator"
   ],
   "metadata": {
    "collapsed": false
   }
  },
  {
   "cell_type": "code",
   "execution_count": 24,
   "outputs": [],
   "source": [
    "def custom_generator(x_train, y_train_linear, y_train_angular, r_theta_data, episode_length):\n",
    "    episode_start_index = 0\n",
    "\n",
    "    for episode_len in episode_length.astype(int):\n",
    "        episode_images = x_train[episode_start_index:episode_start_index + episode_len]\n",
    "        episode_relative_distances = r_theta_data[episode_start_index:episode_start_index + episode_len]\n",
    "        episode_labels_linear = y_train_linear[episode_start_index:episode_start_index + episode_len]\n",
    "        episode_labels_angular = y_train_angular[episode_start_index:episode_start_index + episode_len]\n",
    "\n",
    "        prev_images = None\n",
    "        prev_relative_distances = None\n",
    "\n",
    "        for i in range(episode_len):\n",
    "            current_image = episode_images[i]\n",
    "            current_relative_distance = episode_relative_distances[i]\n",
    "            current_label_linear = episode_labels_linear[i]\n",
    "            current_label_angular = episode_labels_angular[i]\n",
    "\n",
    "            if prev_images is None:\n",
    "                prev_images = current_image[np.newaxis, :]\n",
    "                prev_relative_distances = current_relative_distance[np.newaxis, :]\n",
    "            else:\n",
    "                prev_images = np.concatenate([prev_images, current_image[np.newaxis, :]], axis=0)\n",
    "                prev_relative_distances = np.concatenate([prev_relative_distances, current_relative_distance[np.newaxis, :]], axis=0)\n",
    "\n",
    "            yield [current_image[np.newaxis, :], current_relative_distance[np.newaxis, :], prev_images, prev_relative_distances], [current_label_linear[np.newaxis], current_label_angular[np.newaxis]]\n",
    "\n",
    "        episode_start_index += episode_len\n"
   ],
   "metadata": {
    "collapsed": false,
    "ExecuteTime": {
     "end_time": "2023-07-30T16:04:37.656324700Z",
     "start_time": "2023-07-30T16:04:37.614621900Z"
    }
   }
  },
  {
   "cell_type": "code",
   "execution_count": 32,
   "outputs": [
    {
     "name": "stdout",
     "output_type": "stream",
     "text": [
      "Goal ==> (None, 1, 12288)\n",
      "Patches ==> (None, None, 12288)\n",
      "****  (None, 17, 64)\n",
      "@@@ before prev_representation@@@\n"
     ]
    },
    {
     "ename": "ValueError",
     "evalue": "A `Concatenate` layer requires inputs with matching shapes except for the concatenation axis. Received: input_shape=[(None, None, 120, 160, 3), (None, None, 1, 1, 2)]",
     "output_type": "error",
     "traceback": [
      "\u001B[1;31m---------------------------------------------------------------------------\u001B[0m",
      "\u001B[1;31mValueError\u001B[0m                                Traceback (most recent call last)",
      "Cell \u001B[1;32mIn[32], line 55\u001B[0m\n\u001B[0;32m     42\u001B[0m     model\u001B[38;5;241m.\u001B[39mfit_generator(\n\u001B[0;32m     43\u001B[0m         generator\u001B[38;5;241m=\u001B[39mgenerator,\n\u001B[0;32m     44\u001B[0m         steps_per_epoch\u001B[38;5;241m=\u001B[39m\u001B[38;5;28mlen\u001B[39m(episode_length),\n\u001B[1;32m   (...)\u001B[0m\n\u001B[0;32m     51\u001B[0m         shuffle\u001B[38;5;241m=\u001B[39m\u001B[38;5;28;01mFalse\u001B[39;00m\n\u001B[0;32m     52\u001B[0m     )\n\u001B[0;32m     54\u001B[0m \u001B[38;5;66;03m# Usage:\u001B[39;00m\n\u001B[1;32m---> 55\u001B[0m vit_classifier \u001B[38;5;241m=\u001B[39m \u001B[43mcreate_vit_classifier\u001B[49m\u001B[43m(\u001B[49m\u001B[43m)\u001B[49m\n\u001B[0;32m     56\u001B[0m history \u001B[38;5;241m=\u001B[39m run_experiment(vit_classifier, x_train, y_train_categorical_linear, y_train_categorical_angular, r_theta_data, episode_length)\n",
      "Cell \u001B[1;32mIn[31], line 63\u001B[0m, in \u001B[0;36mcreate_vit_classifier\u001B[1;34m()\u001B[0m\n\u001B[0;32m     61\u001B[0m prev_relative_distances_rep \u001B[38;5;241m=\u001B[39m tf\u001B[38;5;241m.\u001B[39mexpand_dims(prev_relative_distances_input, axis\u001B[38;5;241m=\u001B[39m\u001B[38;5;241m-\u001B[39m\u001B[38;5;241m2\u001B[39m)\n\u001B[0;32m     62\u001B[0m prev_relative_distances_rep \u001B[38;5;241m=\u001B[39m tf\u001B[38;5;241m.\u001B[39mexpand_dims(prev_relative_distances_rep, axis\u001B[38;5;241m=\u001B[39m\u001B[38;5;241m-\u001B[39m\u001B[38;5;241m2\u001B[39m)\n\u001B[1;32m---> 63\u001B[0m prev_representations \u001B[38;5;241m=\u001B[39m \u001B[43mlayers\u001B[49m\u001B[38;5;241;43m.\u001B[39;49m\u001B[43mConcatenate\u001B[49m\u001B[43m(\u001B[49m\u001B[38;5;241;43m1\u001B[39;49m\u001B[43m)\u001B[49m\u001B[43m(\u001B[49m\u001B[43m[\u001B[49m\u001B[43mprev_images_input\u001B[49m\u001B[43m,\u001B[49m\u001B[43m \u001B[49m\u001B[43mprev_relative_distances_rep\u001B[49m\u001B[43m]\u001B[49m\u001B[43m)\u001B[49m\n\u001B[0;32m     64\u001B[0m \u001B[38;5;28mprint\u001B[39m(\u001B[38;5;124m\"\u001B[39m\u001B[38;5;124m^^^^^^ after prev_representation ^^^^^^\u001B[39m\u001B[38;5;124m\"\u001B[39m)\n\u001B[0;32m     66\u001B[0m \u001B[38;5;66;03m# Add MLP.\u001B[39;00m\n",
      "File \u001B[1;32mG:\\Anaconda\\envs\\tensorflow\\lib\\site-packages\\keras\\utils\\traceback_utils.py:70\u001B[0m, in \u001B[0;36mfilter_traceback.<locals>.error_handler\u001B[1;34m(*args, **kwargs)\u001B[0m\n\u001B[0;32m     67\u001B[0m     filtered_tb \u001B[38;5;241m=\u001B[39m _process_traceback_frames(e\u001B[38;5;241m.\u001B[39m__traceback__)\n\u001B[0;32m     68\u001B[0m     \u001B[38;5;66;03m# To get the full stack trace, call:\u001B[39;00m\n\u001B[0;32m     69\u001B[0m     \u001B[38;5;66;03m# `tf.debugging.disable_traceback_filtering()`\u001B[39;00m\n\u001B[1;32m---> 70\u001B[0m     \u001B[38;5;28;01mraise\u001B[39;00m e\u001B[38;5;241m.\u001B[39mwith_traceback(filtered_tb) \u001B[38;5;28;01mfrom\u001B[39;00m \u001B[38;5;28mNone\u001B[39m\n\u001B[0;32m     71\u001B[0m \u001B[38;5;28;01mfinally\u001B[39;00m:\n\u001B[0;32m     72\u001B[0m     \u001B[38;5;28;01mdel\u001B[39;00m filtered_tb\n",
      "File \u001B[1;32mG:\\Anaconda\\envs\\tensorflow\\lib\\site-packages\\keras\\layers\\merging\\concatenate.py:131\u001B[0m, in \u001B[0;36mConcatenate.build\u001B[1;34m(self, input_shape)\u001B[0m\n\u001B[0;32m    125\u001B[0m unique_dims \u001B[38;5;241m=\u001B[39m \u001B[38;5;28mset\u001B[39m(\n\u001B[0;32m    126\u001B[0m     shape[axis]\n\u001B[0;32m    127\u001B[0m     \u001B[38;5;28;01mfor\u001B[39;00m shape \u001B[38;5;129;01min\u001B[39;00m shape_set\n\u001B[0;32m    128\u001B[0m     \u001B[38;5;28;01mif\u001B[39;00m shape[axis] \u001B[38;5;129;01mis\u001B[39;00m \u001B[38;5;129;01mnot\u001B[39;00m \u001B[38;5;28;01mNone\u001B[39;00m\n\u001B[0;32m    129\u001B[0m )\n\u001B[0;32m    130\u001B[0m \u001B[38;5;28;01mif\u001B[39;00m \u001B[38;5;28mlen\u001B[39m(unique_dims) \u001B[38;5;241m>\u001B[39m \u001B[38;5;241m1\u001B[39m:\n\u001B[1;32m--> 131\u001B[0m     \u001B[38;5;28;01mraise\u001B[39;00m \u001B[38;5;167;01mValueError\u001B[39;00m(err_msg)\n",
      "\u001B[1;31mValueError\u001B[0m: A `Concatenate` layer requires inputs with matching shapes except for the concatenation axis. Received: input_shape=[(None, None, 120, 160, 3), (None, None, 1, 1, 2)]"
     ]
    }
   ],
   "source": [
    "def run_experiment(model, x_train, y_train_linear, y_train_angular, r_theta_data, episode_length):\n",
    "    optimizer = tfa.optimizers.AdamW(\n",
    "        learning_rate=learning_rate, weight_decay=weight_decay\n",
    "    )\n",
    "\n",
    "    losses = {\n",
    "        \"linear\": keras.losses.SparseCategoricalCrossentropy(from_logits=False),\n",
    "        \"angular\": keras.losses.SparseCategoricalCrossentropy(from_logits=False)\n",
    "    }\n",
    "\n",
    "    loss_weights = {\n",
    "        \"linear\": 1.0,\n",
    "        \"angular\": 4.0\n",
    "    }\n",
    "    metrics = {\n",
    "        \"linear\": [\n",
    "            keras.metrics.SparseCategoricalAccuracy(name=\"linear_accuracy\"),\n",
    "            keras.metrics.SparseTopKCategoricalAccuracy(5, name=\"linear_top-5-accuracy\")\n",
    "        ],\n",
    "        \"angular\": [\n",
    "            keras.metrics.SparseCategoricalAccuracy(name=\"angular_accuracy\"),\n",
    "            keras.metrics.SparseTopKCategoricalAccuracy(5, name=\"angular_top-5-accuracy\")\n",
    "        ]\n",
    "    }\n",
    "\n",
    "    model.compile(\n",
    "        optimizer=optimizer,\n",
    "        loss=losses,\n",
    "        metrics=metrics\n",
    "    )\n",
    "\n",
    "    log_dir = ''\n",
    "    checkpoint_filepath = log_dir + 'ep{epoch:03d}-loss{loss:.3f}-val_loss{val_loss:.3f}.h5'\n",
    "    checkpoint_callback = keras.callbacks.ModelCheckpoint(\n",
    "        checkpoint_filepath,\n",
    "        monitor=\"val_loss\",\n",
    "        save_best_only=True,\n",
    "        save_weights_only=True,\n",
    "    )\n",
    "\n",
    "    generator = custom_generator(x_train, y_train_linear, y_train_angular, r_theta_data, episode_length)\n",
    "    model.fit_generator(\n",
    "        generator=generator,\n",
    "        steps_per_epoch=len(episode_length),\n",
    "        epochs=num_epochs,\n",
    "        validation_data=(\n",
    "            [x_test, test_r_theta_data, prev_images, prev_relative_distances],\n",
    "            [y_test_categorical_linear, y_test_categorical_angular]\n",
    "        ),\n",
    "        callbacks=[checkpoint_callback],\n",
    "        shuffle=False\n",
    "    )\n",
    "\n",
    "# Usage:\n",
    "vit_classifier = create_vit_classifier()\n",
    "history = run_experiment(vit_classifier, x_train, y_train_categorical_linear, y_train_categorical_angular, r_theta_data, episode_length)"
   ],
   "metadata": {
    "collapsed": false,
    "ExecuteTime": {
     "end_time": "2023-07-30T16:12:44.256959500Z",
     "start_time": "2023-07-30T16:12:43.662722Z"
    }
   }
  },
  {
   "cell_type": "markdown",
   "source": [
    "# Compile The Model Using train_on_batch"
   ],
   "metadata": {
    "collapsed": false
   }
  },
  {
   "cell_type": "code",
   "execution_count": null,
   "outputs": [],
   "source": [
    "for i in range(len(x_train)):\n",
    "    current_image = x_train[i]\n",
    "    current_relative_distance = r_theta_data[i]\n",
    "    current_label_linear = y_train_categorical_linear[i]\n",
    "    current_label_angular = y_train_categorical_angular[i]\n",
    "\n",
    "    # Incrementally accumulate previous data\n",
    "    if prev_images is None:\n",
    "        prev_images = current_image[np.newaxis, :]\n",
    "        prev_relative_distances = current_relative_distance[np.newaxis, :]\n",
    "    else:\n",
    "        prev_images = np.concatenate([prev_images, current_image[np.newaxis, :]], axis=0)\n",
    "        prev_relative_distances = np.concatenate([prev_relative_distances, current_relative_distance[np.newaxis, :]], axis=0)\n",
    "\n",
    "    model.train_on_batch(\n",
    "        x=[current_image[np.newaxis, :], current_relative_distance[np.newaxis, :], prev_images, prev_relative_distances],\n",
    "        y=[current_label_linear[np.newaxis], current_label_angular[np.newaxis]]\n",
    "    )\n"
   ],
   "metadata": {
    "collapsed": false
   }
  },
  {
   "cell_type": "code",
   "execution_count": null,
   "outputs": [],
   "source": [],
   "metadata": {
    "collapsed": false
   }
  },
  {
   "cell_type": "code",
   "execution_count": null,
   "outputs": [],
   "source": [],
   "metadata": {
    "collapsed": false
   }
  }
 ],
 "metadata": {
  "kernelspec": {
   "display_name": "python 3.9 (tensorflow)",
   "language": "python",
   "name": "tensorflow"
  },
  "language_info": {
   "codemirror_mode": {
    "name": "ipython",
    "version": 3
   },
   "file_extension": ".py",
   "mimetype": "text/x-python",
   "name": "python",
   "nbconvert_exporter": "python",
   "pygments_lexer": "ipython3",
   "version": "3.9.16"
  }
 },
 "nbformat": 4,
 "nbformat_minor": 5
}
