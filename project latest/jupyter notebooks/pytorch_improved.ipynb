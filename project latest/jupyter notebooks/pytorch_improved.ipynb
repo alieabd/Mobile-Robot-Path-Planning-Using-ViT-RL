{
 "cells": [
  {
   "cell_type": "code",
   "execution_count": null,
   "metadata": {
    "collapsed": true,
    "id": "S_Dw8wNS6Dcy",
    "ExecuteTime": {
     "end_time": "2023-08-25T10:13:33.432024600Z",
     "start_time": "2023-08-25T10:13:33.398758700Z"
    },
    "colab": {
     "base_uri": "https://localhost:8080/"
    },
    "outputId": "e54da12f-a3f6-43b7-de0d-538657759d97"
   },
   "outputs": [
    {
     "output_type": "stream",
     "name": "stdout",
     "text": [
      "[Errno 2] No such file or directory: 'G:projectfifth_trydata'\n",
      "/content\n"
     ]
    }
   ],
   "source": [
    "cd G:\\project\\fifth_try\\data"
   ]
  },
  {
   "cell_type": "code",
   "source": [
    "from google.colab import drive\n",
    "drive.mount('/content/drive')"
   ],
   "metadata": {
    "colab": {
     "base_uri": "https://localhost:8080/"
    },
    "id": "POg8CxGb6I3J",
    "outputId": "c0b8e4e7-6420-4a3e-fa8c-296ee7a53005"
   },
   "execution_count": null,
   "outputs": [
    {
     "output_type": "stream",
     "name": "stdout",
     "text": [
      "Mounted at /content/drive\n"
     ]
    }
   ]
  },
  {
   "cell_type": "code",
   "source": [
    "cd drive/MyDrive/"
   ],
   "metadata": {
    "colab": {
     "base_uri": "https://localhost:8080/"
    },
    "id": "mPmvvYFM6d3Y",
    "outputId": "2fcf6a94-d6fa-4c4f-a93b-71dafdfeed50"
   },
   "execution_count": null,
   "outputs": [
    {
     "output_type": "stream",
     "name": "stdout",
     "text": [
      "/content/drive/MyDrive\n"
     ]
    }
   ]
  },
  {
   "cell_type": "code",
   "source": [
    "!pip install transformers\n",
    "!pip install GPUtil"
   ],
   "metadata": {
    "colab": {
     "base_uri": "https://localhost:8080/"
    },
    "id": "v7BW0thZ6NGA",
    "outputId": "62b4b3bc-f0c8-44c6-8949-5c937fd377c0"
   },
   "execution_count": null,
   "outputs": [
    {
     "output_type": "stream",
     "name": "stdout",
     "text": [
      "Collecting transformers\n",
      "  Downloading transformers-4.32.0-py3-none-any.whl (7.5 MB)\n",
      "\u001B[2K     \u001B[90m━━━━━━━━━━━━━━━━━━━━━━━━━━━━━━━━━━━━━━━━\u001B[0m \u001B[32m7.5/7.5 MB\u001B[0m \u001B[31m17.9 MB/s\u001B[0m eta \u001B[36m0:00:00\u001B[0m\n",
      "\u001B[?25hRequirement already satisfied: filelock in /usr/local/lib/python3.10/dist-packages (from transformers) (3.12.2)\n",
      "Collecting huggingface-hub<1.0,>=0.15.1 (from transformers)\n",
      "  Downloading huggingface_hub-0.16.4-py3-none-any.whl (268 kB)\n",
      "\u001B[2K     \u001B[90m━━━━━━━━━━━━━━━━━━━━━━━━━━━━━━━━━━━━━━\u001B[0m \u001B[32m268.8/268.8 kB\u001B[0m \u001B[31m26.0 MB/s\u001B[0m eta \u001B[36m0:00:00\u001B[0m\n",
      "\u001B[?25hRequirement already satisfied: numpy>=1.17 in /usr/local/lib/python3.10/dist-packages (from transformers) (1.23.5)\n",
      "Requirement already satisfied: packaging>=20.0 in /usr/local/lib/python3.10/dist-packages (from transformers) (23.1)\n",
      "Requirement already satisfied: pyyaml>=5.1 in /usr/local/lib/python3.10/dist-packages (from transformers) (6.0.1)\n",
      "Requirement already satisfied: regex!=2019.12.17 in /usr/local/lib/python3.10/dist-packages (from transformers) (2023.6.3)\n",
      "Requirement already satisfied: requests in /usr/local/lib/python3.10/dist-packages (from transformers) (2.31.0)\n",
      "Collecting tokenizers!=0.11.3,<0.14,>=0.11.1 (from transformers)\n",
      "  Downloading tokenizers-0.13.3-cp310-cp310-manylinux_2_17_x86_64.manylinux2014_x86_64.whl (7.8 MB)\n",
      "\u001B[2K     \u001B[90m━━━━━━━━━━━━━━━━━━━━━━━━━━━━━━━━━━━━━━━━\u001B[0m \u001B[32m7.8/7.8 MB\u001B[0m \u001B[31m42.6 MB/s\u001B[0m eta \u001B[36m0:00:00\u001B[0m\n",
      "\u001B[?25hCollecting safetensors>=0.3.1 (from transformers)\n",
      "  Downloading safetensors-0.3.3-cp310-cp310-manylinux_2_17_x86_64.manylinux2014_x86_64.whl (1.3 MB)\n",
      "\u001B[2K     \u001B[90m━━━━━━━━━━━━━━━━━━━━━━━━━━━━━━━━━━━━━━━━\u001B[0m \u001B[32m1.3/1.3 MB\u001B[0m \u001B[31m44.4 MB/s\u001B[0m eta \u001B[36m0:00:00\u001B[0m\n",
      "\u001B[?25hRequirement already satisfied: tqdm>=4.27 in /usr/local/lib/python3.10/dist-packages (from transformers) (4.66.1)\n",
      "Requirement already satisfied: fsspec in /usr/local/lib/python3.10/dist-packages (from huggingface-hub<1.0,>=0.15.1->transformers) (2023.6.0)\n",
      "Requirement already satisfied: typing-extensions>=3.7.4.3 in /usr/local/lib/python3.10/dist-packages (from huggingface-hub<1.0,>=0.15.1->transformers) (4.7.1)\n",
      "Requirement already satisfied: charset-normalizer<4,>=2 in /usr/local/lib/python3.10/dist-packages (from requests->transformers) (3.2.0)\n",
      "Requirement already satisfied: idna<4,>=2.5 in /usr/local/lib/python3.10/dist-packages (from requests->transformers) (3.4)\n",
      "Requirement already satisfied: urllib3<3,>=1.21.1 in /usr/local/lib/python3.10/dist-packages (from requests->transformers) (2.0.4)\n",
      "Requirement already satisfied: certifi>=2017.4.17 in /usr/local/lib/python3.10/dist-packages (from requests->transformers) (2023.7.22)\n",
      "Installing collected packages: tokenizers, safetensors, huggingface-hub, transformers\n",
      "Successfully installed huggingface-hub-0.16.4 safetensors-0.3.3 tokenizers-0.13.3 transformers-4.32.0\n",
      "Collecting GPUtil\n",
      "  Downloading GPUtil-1.4.0.tar.gz (5.5 kB)\n",
      "  Preparing metadata (setup.py) ... \u001B[?25l\u001B[?25hdone\n",
      "Building wheels for collected packages: GPUtil\n",
      "  Building wheel for GPUtil (setup.py) ... \u001B[?25l\u001B[?25hdone\n",
      "  Created wheel for GPUtil: filename=GPUtil-1.4.0-py3-none-any.whl size=7392 sha256=3790f7af1b5a348a104b8ba2a3d959b3d94b60cf988f4a6f14d00accc250db5f\n",
      "  Stored in directory: /root/.cache/pip/wheels/a9/8a/bd/81082387151853ab8b6b3ef33426e98f5cbfebc3c397a9d4d0\n",
      "Successfully built GPUtil\n",
      "Installing collected packages: GPUtil\n",
      "Successfully installed GPUtil-1.4.0\n"
     ]
    }
   ]
  },
  {
   "cell_type": "code",
   "execution_count": null,
   "outputs": [],
   "source": [
    "import pandas as pd\n",
    "import numpy as np\n",
    "import matplotlib.pyplot as plt\n",
    "\n",
    "import torch\n",
    "from torchvision import transforms\n",
    "from torch.utils.data import Dataset, DataLoader\n",
    "import torch.nn as nn\n",
    "import torch.nn.functional as F\n",
    "\n",
    "from transformers import ViTFeatureExtractor, ViTModel, ViTConfig, AutoConfig\n",
    "\n",
    "from PIL import Image\n",
    "from torchsummary import summary\n",
    "import GPUtil\n",
    "%matplotlib inline"
   ],
   "metadata": {
    "id": "F9HcTJ-76Dcz",
    "ExecuteTime": {
     "end_time": "2023-08-25T10:13:41.548001900Z",
     "start_time": "2023-08-25T10:13:35.641744600Z"
    }
   }
  },
  {
   "cell_type": "markdown",
   "source": [
    "# import training data"
   ],
   "metadata": {
    "collapsed": false,
    "id": "YGSeZZty6Dcz"
   }
  },
  {
   "cell_type": "code",
   "execution_count": null,
   "outputs": [],
   "source": [
    "import numpy as np\n",
    "image = np.load(\"W_Image_data_per_episode.npy\",mmap_mode='c')\n",
    "episode_length = np.load(\"W_Episode.npy\",mmap_mode='c')\n",
    "velocity = np.load(\"W_Velocity.npy\",mmap_mode='c')\n",
    "r_theta_data = np.load(\"W_R_T_data.npy\",mmap_mode='c')\n",
    "\n",
    "\n",
    "test_image = np.load(\"W_test_Image_data_per_episode.npy\",mmap_mode='c')\n",
    "test_episode_length = np.load(\"W_test_Episode.npy\",mmap_mode='c')\n",
    "test_velocity = np.load(\"W_test_Velocity.npy\",mmap_mode='c')\n",
    "test_r_theta_data = np.load(\"W_test_R_T_data.npy\",mmap_mode='c')"
   ],
   "metadata": {
    "id": "Jg-TvrnA6Dc0",
    "ExecuteTime": {
     "end_time": "2023-08-25T11:02:36.626256800Z",
     "start_time": "2023-08-25T11:02:36.445174100Z"
    }
   }
  },
  {
   "cell_type": "markdown",
   "source": [
    "# first 10 episode of each try"
   ],
   "metadata": {
    "collapsed": false,
    "id": "el686EvQErsB"
   }
  },
  {
   "cell_type": "code",
   "execution_count": null,
   "outputs": [
    {
     "output_type": "execute_result",
     "data": {
      "text/plain": [
       "array([[    0,   533],\n",
       "       [ 2182,  2758],\n",
       "       [ 4330,  4928],\n",
       "       [ 6534,  7193],\n",
       "       [ 8760,  9379],\n",
       "       [11049, 11716],\n",
       "       [13307, 13834],\n",
       "       [15443, 15991],\n",
       "       [17772, 18377],\n",
       "       [19953, 20591]])"
      ]
     },
     "metadata": {},
     "execution_count": 6
    }
   ],
   "source": [
    "desiger_ranges = np.array([[0,episode_length[9]],\n",
    "       [episode_length[49],episode_length[59]],\n",
    "       [episode_length[99],episode_length[109]],\n",
    "       [episode_length[149],episode_length[159]],\n",
    "       [episode_length[199],episode_length[209]],\n",
    "       [episode_length[249],episode_length[259]],\n",
    "       [episode_length[299],episode_length[309]],\n",
    "       [episode_length[349],episode_length[359]],\n",
    "       [episode_length[399],episode_length[409]],\n",
    "       [episode_length[449],episode_length[459]],\n",
    "       ]).astype(int)\n",
    "desiger_ranges"
   ],
   "metadata": {
    "ExecuteTime": {
     "end_time": "2023-08-25T11:02:37.741867600Z",
     "start_time": "2023-08-25T11:02:37.717877300Z"
    },
    "colab": {
     "base_uri": "https://localhost:8080/"
    },
    "id": "7_2cVfkvErsB",
    "outputId": "38f1b50d-b751-434e-be83-9dce5fcabd1c"
   }
  },
  {
   "cell_type": "code",
   "execution_count": null,
   "outputs": [],
   "source": [
    "slices = np.r_[slice(0,533),slice(2182,2758),slice(4330,4928),slice(6534,7193),slice(8760,9379),\n",
    "                slice(11049,11716),slice(13307,13834),slice(15443,15991),slice(17772,18377),slice(19953,20591)]\n",
    "episode_slices = np.r_[slice(0,9),slice(49,59),slice(99,109),slice(149,159),slice(199,209),\n",
    "                        slice(249,259),slice(299,309),slice(349,359),slice(399,409),slice(449,459)]\n",
    "\n",
    "image = image[slices]\n",
    "episode_length = episode_length[episode_slices]\n",
    "velocity = velocity[slices]\n",
    "r_theta_data = r_theta_data[slices]"
   ],
   "metadata": {
    "ExecuteTime": {
     "end_time": "2023-08-25T11:02:40.098237Z",
     "start_time": "2023-08-25T11:02:38.484416300Z"
    },
    "id": "fsIohJMnErsB"
   }
  },
  {
   "cell_type": "code",
   "execution_count": null,
   "outputs": [],
   "source": [
    "#image = image.astype(np.int32)\n",
    "#test_image = test_image.astype(np.int32)"
   ],
   "metadata": {
    "id": "agM-4Ynv6Dc0"
   }
  },
  {
   "cell_type": "code",
   "execution_count": null,
   "outputs": [],
   "source": [
    "image = np.reshape(image,[image.shape[0],120,160,3])\n",
    "test_image = np.reshape(test_image,[2266,120,160,3])"
   ],
   "metadata": {
    "id": "YtGzWQGe6Dc0"
   }
  },
  {
   "cell_type": "code",
   "execution_count": null,
   "outputs": [],
   "source": [
    "image_array = image[855]"
   ],
   "metadata": {
    "id": "lExsjYC-6Dc0"
   }
  },
  {
   "cell_type": "code",
   "execution_count": null,
   "outputs": [
    {
     "output_type": "stream",
     "name": "stderr",
     "text": [
      "WARNING:matplotlib.image:Clipping input data to the valid range for imshow with RGB data ([0..1] for floats or [0..255] for integers).\n"
     ]
    },
    {
     "output_type": "display_data",
     "data": {
      "text/plain": [
       "<Figure size 640x480 with 1 Axes>"
      ],
      "image/png": "[encoded data removed]"
     },
     "metadata": {}
    }
   ],
   "source": [
    "import matplotlib.pyplot as plt\n",
    "plt.imshow(image_array)\n",
    "plt.axis('off')  # Optional: turn off axis ticks and labels\n",
    "plt.show()"
   ],
   "metadata": {
    "colab": {
     "base_uri": "https://localhost:8080/",
     "height": 443
    },
    "id": "idfoWGUu6Dc1",
    "outputId": "05d1fda4-a359-47a2-9af2-0bb124ad5ea0"
   }
  },
  {
   "cell_type": "markdown",
   "source": [
    "# Rounding Velocity"
   ],
   "metadata": {
    "collapsed": false,
    "id": "hhmJlU3P6Dc1"
   }
  },
  {
   "cell_type": "code",
   "execution_count": null,
   "outputs": [],
   "source": [
    "#velocity = np.around(velocity,decimals=1)\n",
    "#r_theta_data = np.around(r_theta_data,decimals=2)\n",
    "\n",
    "\n",
    "#test_velocity = np.around(test_velocity,decimals=1)\n",
    "#test_r_theta_data = np.around(test_r_theta_data,decimals=2)"
   ],
   "metadata": {
    "id": "5sN-s9YB6Dc1"
   }
  },
  {
   "cell_type": "markdown",
   "source": [
    "# GPU setup"
   ],
   "metadata": {
    "collapsed": false,
    "id": "Ue4xOgb46Dc1"
   }
  },
  {
   "cell_type": "code",
   "execution_count": null,
   "outputs": [],
   "source": [
    "# Define function to add data/model in to GPU (cuda)\n",
    "def get_default_device():\n",
    "    if torch.cuda.is_available():\n",
    "        return torch.device('cuda')\n",
    "    else:\n",
    "        return torch.device('cpu')\n",
    "def to_device(data, device):\n",
    "    # if data is list or tuple, move each of them to device\n",
    "    if isinstance(data, (list, tuple)):\n",
    "        return [to_device(x, device) for x in data]\n",
    "    return data.to(device, non_blocking=True)\n",
    "\n",
    "class DeviceDataLoader():\n",
    "    def __init__(self, dl, device) -> None:\n",
    "        self.dl = dl\n",
    "        self.device = device\n",
    "\n",
    "    def __iter__(self):\n",
    "        for b in self.dl:\n",
    "            # yield only execuate when the function is called\n",
    "            yield to_device(b, self. device)\n",
    "\n",
    "    def __len__(self):\n",
    "        return len(self.dl)\n",
    "\n",
    "device = get_default_device()"
   ],
   "metadata": {
    "id": "o2T8Rkeh6Dc2"
   }
  },
  {
   "cell_type": "markdown",
   "source": [
    "# prepare Input data"
   ],
   "metadata": {
    "collapsed": false,
    "id": "b3CkLlfo6Dc2"
   }
  },
  {
   "cell_type": "code",
   "execution_count": null,
   "outputs": [
    {
     "output_type": "stream",
     "name": "stdout",
     "text": [
      "x_train shape: (5970, 120, 160, 3) - y_train shape: (5970, 2, 3)\n",
      "x_train shape: (2266, 120, 160, 3) - y_train shape: (2266, 2, 3)\n"
     ]
    }
   ],
   "source": [
    "input_shape = (120, 160, 3)\n",
    "num_epochs = 500\n",
    "\n",
    "x_train = image\n",
    "y_train = velocity\n",
    "\n",
    "x_test = test_image\n",
    "y_test = test_velocity\n",
    "print(f\"x_train shape: {x_train.shape} - y_train shape: {y_train.shape}\")\n",
    "print(f\"x_train shape: {x_test.shape} - y_train shape: {y_test.shape}\")"
   ],
   "metadata": {
    "colab": {
     "base_uri": "https://localhost:8080/"
    },
    "id": "mWskvToQ6Dc2",
    "outputId": "0fd504be-8cd7-4eb4-c334-c7abed54022e"
   }
  },
  {
   "cell_type": "code",
   "source": [
    "image = torch.tensor(image,device=device,dtype=torch.float32)\n",
    "r_theta_data = torch.tensor(r_theta_data,device=device,dtype=torch.float32)\n",
    "velocity = torch.tensor(velocity,device=device,dtype=torch.float32)"
   ],
   "metadata": {
    "id": "NSIGpzP1gvKe"
   },
   "execution_count": null,
   "outputs": []
  },
  {
   "cell_type": "code",
   "execution_count": null,
   "outputs": [],
   "source": [
    "# Define your MLP architecture (you can experiment with different architectures)\n",
    "class RelativeDistanceMLP(nn.Module):\n",
    "    def __init__(self, input_dim, output_dim):\n",
    "        super(RelativeDistanceMLP, self).__init__()\n",
    "        self.fc1 = nn.Linear(input_dim, 512)  # Input size: input_dim, Output size: 128\n",
    "        self.fc2 = nn.Linear(512, 256)\n",
    "        self.fc3 = nn.Linear(256, 1024)\n",
    "        self.fc4 = nn.Linear(1024, output_dim) # Output size adjusted to match the ViT feature extractor's output\n",
    "\n",
    "    def forward(self, relative_distance):\n",
    "        #print(f'relative distance $$$${relative_distance.shape}$$$$ relative distance')\n",
    "        x = torch.relu(self.fc1(relative_distance))\n",
    "        x = torch.relu(self.fc2(x))\n",
    "        x = torch.relu(self.fc3(x))\n",
    "        x = torch.relu(self.fc4(x))\n",
    "        #print(f'x    <<<<<<<<<{x.shape}>>>>>>>>>>   x')\n",
    "        return x"
   ],
   "metadata": {
    "id": "rS4TmJoe6Dc2"
   }
  },
  {
   "cell_type": "code",
   "execution_count": null,
   "outputs": [
    {
     "output_type": "display_data",
     "data": {
      "text/plain": [
       "Downloading (…)rocessor_config.json:   0%|          | 0.00/160 [00:00<?, ?B/s]"
      ],
      "application/vnd.jupyter.widget-view+json": {
       "version_major": 2,
       "version_minor": 0,
       "model_id": "7e68b52ef52e40c1a1d07c65b422cad3"
      }
     },
     "metadata": {}
    },
    {
     "output_type": "stream",
     "name": "stderr",
     "text": [
      "/usr/local/lib/python3.10/dist-packages/transformers/models/vit/feature_extraction_vit.py:28: FutureWarning: The class ViTFeatureExtractor is deprecated and will be removed in version 5 of Transformers. Please use ViTImageProcessor instead.\n",
      "  warnings.warn(\n"
     ]
    }
   ],
   "source": [
    "# Define training dataset\n",
    "class robotDataset(Dataset):\n",
    "    def __init__(self, image, relative_distance, velocity, trans_transform=None):\n",
    "        self.vel = velocity\n",
    "        self.images = image\n",
    "        self.rel_dist = relative_distance\n",
    "        self.trans_transform = trans_transform\n",
    "        # Instantiate the MLP for encoding relative distance\n",
    "        output_dim = 1024\n",
    "        #self.mlp = RelativeDistanceMLP(input_dim=2, output_dim=output_dim)\n",
    "\n",
    "    def __len__(self):\n",
    "        return len(self.vel)\n",
    "    def __getitem__(self, idx):\n",
    "        # Get image\n",
    "        image = self.images[idx]\n",
    "        # Preprocess image and extract patches using the ViT feature extractor\n",
    "        image_trans = self.trans_transform(image, return_tensors='pt')\n",
    "        #print(f'@@@@ {image_trans.shape}')\n",
    "        image_trans = image_trans['pixel_values'].squeeze()\n",
    "\n",
    "        # Get the corresponding relative distance\n",
    "        relative_distance = self.rel_dist[idx]\n",
    "\n",
    "        # Pass the relative distance through the MLP to obtain the encoded relative distance features\n",
    "        #encoded_relative_distance = self.mlp(relative_distance)\n",
    "        velocity = self.vel[idx]\n",
    "\n",
    "        #linear_velocity_x = torch.reshape(velocity[0, 0],[1])\n",
    "        #angular_velocity_z = torch.reshape(velocity[1, 2],[1])\n",
    "        #velocity = torch.cat((linear_velocity_x,angular_velocity_z))\n",
    "        velocity = torch.reshape(velocity[1, 2],[1])\n",
    "\n",
    "        return image_trans, relative_distance, velocity\n",
    "\n",
    "trans_transform = ViTFeatureExtractor.from_pretrained('google/vit-large-patch16-224')\n",
    "\n",
    "\n",
    "\n",
    "train_ds = robotDataset(image,r_theta_data,velocity, trans_transform=trans_transform)\n",
    "train_dl = DataLoader(train_ds, batch_size=1, shuffle=False)\n"
   ],
   "metadata": {
    "id": "Mgco6nay6Dc2",
    "colab": {
     "base_uri": "https://localhost:8080/",
     "height": 132,
     "referenced_widgets": [
      "7e68b52ef52e40c1a1d07c65b422cad3",
      "94f756f260314d46988196d477543b48",
      "66643e9dabff4fda8ea71cabbd12a015",
      "7661ad59248240708363078734d819b9",
      "1fde7b6fd65c4ce78d81f4cb5a7c5efa",
      "87a1a09a4f064b678c24e76190920164",
      "85fbb58b68684237afc6f157811192bc",
      "d36adfbdfc6c41f9a9f3f40436903e00",
      "1d013f7bb8154c2bb61bc179a04807c7",
      "8e4075c7ef6f440f87c71a8c255c4692",
      "9729ab2d0830459d8953cc70d3098792"
     ]
    },
    "outputId": "b6ad31a0-702a-47b8-ff5a-446e2db470e6"
   }
  },
  {
   "cell_type": "code",
   "execution_count": null,
   "outputs": [],
   "source": [],
   "metadata": {
    "id": "A5wJ5-je6Dc2"
   }
  },
  {
   "cell_type": "markdown",
   "source": [
    "# Modify ViT"
   ],
   "metadata": {
    "collapsed": false,
    "id": "zbXik_FL6Dc2"
   }
  },
  {
   "cell_type": "code",
   "execution_count": null,
   "outputs": [
    {
     "output_type": "display_data",
     "data": {
      "text/plain": [
       "Downloading (…)lve/main/config.json:   0%|          | 0.00/502 [00:00<?, ?B/s]"
      ],
      "application/vnd.jupyter.widget-view+json": {
       "version_major": 2,
       "version_minor": 0,
       "model_id": "f7eebe50a45042e3b929eb0406f8d500"
      }
     },
     "metadata": {}
    },
    {
     "output_type": "display_data",
     "data": {
      "text/plain": [
       "Downloading pytorch_model.bin:   0%|          | 0.00/346M [00:00<?, ?B/s]"
      ],
      "application/vnd.jupyter.widget-view+json": {
       "version_major": 2,
       "version_minor": 0,
       "model_id": "0001fa2382bc43a79debf0ee38e3d3eb"
      }
     },
     "metadata": {}
    }
   ],
   "source": [
    "# Modify the model - ViT model\n",
    "model_trans = ViTModel.from_pretrained('google/vit-base-patch16-224-in21k')\n",
    "'''\n",
    "loads the complete pretrained ViTModel from HuggingFace Transformers. This includes all the model layers -\n",
    "the patch embedding, transformer encoder, layer normalization, classification head, etc.\n",
    "'''\n",
    "count = 0\n",
    "for child in model_trans.children():\n",
    "    count += 1\n",
    "    if count < 4:\n",
    "        #The first four layers are not trainable ==>  lower-level feature extraction\n",
    "        for param in child.parameters():\n",
    "            param.requires_grad = False\n",
    "\n",
    "layers_trans = list(model_trans.children()) # Get all the layers from the Transformer model\n",
    "model_trans_top = nn.Sequential(*layers_trans[:-2]) # Remove the normalization layer and pooler layer\n",
    "trans_layer_norm = list(model_trans.children())[2] # Get the normalization layer\n",
    "\n",
    "MLP = RelativeDistanceMLP(2,2048)"
   ],
   "metadata": {
    "id": "SZZCblFp6Dc2",
    "colab": {
     "base_uri": "https://localhost:8080/",
     "height": 137,
     "referenced_widgets": [
      "f7eebe50a45042e3b929eb0406f8d500",
      "0b94232144414ce492d4a90172abdfdb",
      "d8552f1fe54f41d5ba657bac36b7242a",
      "18b87f26ca24437e845a2219f3e50635",
      "08d6acc324e5487089010c5bd4fcb7f8",
      "564431ccb1a34e6a9fc9b6ddd1791d26",
      "88d62574d3f14b10a5562a91b429c3a9",
      "2bb2631f5163487c8fc0d76a59ebca41",
      "46334759886c4e7e93ec3c347d1362e4",
      "a275840e4634443e8269b2e5d59d63c8",
      "c8b8226ac6324d7987a35e8dea25dbfd",
      "0001fa2382bc43a79debf0ee38e3d3eb",
      "ebb7d61f11ec487ba9ff06d97d622903",
      "dd92a4c7abff44f28451adc403a1500c",
      "6fe08ba854414e198498773d6d23ff4e",
      "2cb58ebacb5e40849d691957ca401fdd",
      "eb4f2150cafc4a629b3cb43e39f7916a",
      "c5ec4f57929447da9c5c1d2749b8ae5f",
      "84d50ded60f4419ca867818857239673",
      "9c1f0c305b2d4f6484d65365127710c3",
      "b234a7a981b54e0aaed78fe744013093",
      "4264a1c860b2462eb96086f487509f17"
     ]
    },
    "outputId": "917833d9-6cfe-481c-a39a-836319219d35"
   }
  },
  {
   "cell_type": "markdown",
   "source": [
    "# The Model"
   ],
   "metadata": {
    "collapsed": false,
    "id": "eDWVUz9a6Dc3"
   }
  },
  {
   "cell_type": "code",
   "execution_count": null,
   "outputs": [],
   "source": [
    "class model_final(nn.Module):\n",
    "    def __init__(self, model_trans_top, trans_layer_norm, MLP,dp_rate=0.2):\n",
    "        super().__init__()\n",
    "        # All the trans model layers\n",
    "        self.model_trans_top = model_trans_top\n",
    "        self.trans_layer_norm = trans_layer_norm\n",
    "        self.trans_flatten = nn.Flatten()\n",
    "        self.trans_linear = nn.Linear(150528, 2048)\n",
    "        self.dropout = nn.Dropout(dp_rate)\n",
    "\n",
    "        self.MLP = MLP\n",
    "\n",
    "        # Merge the result and pass the\n",
    "        self.dropout = nn.Dropout(dp_rate)\n",
    "        self.linear1 = nn.Linear(4096, 2048)\n",
    "        self.linear2 = nn.Linear(2048,512)\n",
    "        self.linear3 = nn.Linear(512,128)\n",
    "        self.linear4 = nn.Linear(128,8)\n",
    "        self.linear5 = nn.Linear(8,1)\n",
    "\n",
    "    def forward(self, trans_b, MLP_b):\n",
    "        #transe_b Shape ==>[32,3,224,224]\n",
    "        # Get intermediate outputs using hidden layer\n",
    "        result_trans = self.model_trans_top(trans_b)\n",
    "        patch_state = result_trans.last_hidden_state[:,1:,:] # Remove the classification token and get the last hidden state of all patchs\n",
    "        result_trans = self.trans_layer_norm(patch_state)\n",
    "        result_trans = self.trans_flatten(result_trans) #instead of \"result_trans\" it was patch_state\n",
    "        result_trans = self.dropout(result_trans)\n",
    "        result_trans = self.trans_linear(result_trans) #[batch_size, 2048]\n",
    "\n",
    "\n",
    "\n",
    "        resault_MLP = self.MLP(MLP_b)\n",
    "        resault_MLP = torch.reshape(resault_MLP,[1,2048])\n",
    "\n",
    "        #Merge The Resault\n",
    "\n",
    "        result_merge = torch.cat((result_trans, resault_MLP),0)\n",
    "        result_merge = torch.reshape(result_merge,[1,4096])\n",
    "        result_merge = self.dropout(result_merge)\n",
    "        result_merge = self.linear1(result_merge)\n",
    "        result_merge = self.dropout(result_merge)\n",
    "        result_merge = self.linear2(result_merge)\n",
    "        result_merge = self.linear3(result_merge)\n",
    "        result_merge = self.linear4(result_merge)\n",
    "        result_merge = self.linear5(result_merge)\n",
    "\n",
    "        return result_merge\n",
    "\n",
    "model = model_final(model_trans_top, trans_layer_norm, MLP)\n",
    "# model.load_state_dict(torch.load('model_weights_1228'))"
   ],
   "metadata": {
    "id": "aZfXFOcV6Dc3"
   }
  },
  {
   "cell_type": "markdown",
   "source": [
    "# Add data and model to GPU"
   ],
   "metadata": {
    "collapsed": false,
    "id": "DqmnZeig6Dc3"
   }
  },
  {
   "cell_type": "code",
   "execution_count": null,
   "outputs": [],
   "source": [
    "train_dl = DeviceDataLoader(train_dl, device)\n",
    "model = to_device(model, device)\n"
   ],
   "metadata": {
    "id": "uuogDvsd6Dc3"
   }
  },
  {
   "cell_type": "markdown",
   "source": [
    "# Define Optimizer and LearningRate scheduler"
   ],
   "metadata": {
    "collapsed": false,
    "id": "Rji3vpnS6Dc3"
   }
  },
  {
   "cell_type": "code",
   "execution_count": null,
   "outputs": [],
   "source": [
    "params = [param for param in list(model.parameters()) if param.requires_grad]\n",
    "optimizer = torch.optim.SGD(params, lr=0.01, momentum=0.2)\n",
    "lr_scheduler = torch.optim.lr_scheduler.ReduceLROnPlateau(\n",
    "    optimizer,\n",
    "    mode='min',\n",
    "    factor=0.1,\n",
    "    patience=8,\n",
    "    verbose=True)"
   ],
   "metadata": {
    "id": "ZlnIu_kj6Dc3"
   }
  },
  {
   "cell_type": "markdown",
   "source": [
    "# Fit function AND doing grad steps"
   ],
   "metadata": {
    "collapsed": false,
    "id": "TkEFjpMU6Dc3"
   }
  },
  {
   "cell_type": "code",
   "execution_count": null,
   "outputs": [],
   "source": [
    "def fit(epochs, model, train_dl):\n",
    "    loss_history = torch.tensor([[0,0,0]],device=device,dtype=torch.float32)\n",
    "    opt = optimizer\n",
    "    sched = lr_scheduler\n",
    "    loss_func = nn.MSELoss()\n",
    "    for epoch in range(epochs):\n",
    "        model.train()\n",
    "        batch_num = 1\n",
    "        total_loss = 0\n",
    "        for x_trans, x_MLP, yb in train_dl:\n",
    "            # Pass the opt so that funciton will get trained\n",
    "            preds = model(x_trans,x_MLP)\n",
    "            loss = loss_func(preds.squeeze(), yb)\n",
    "            loss.backward()\n",
    "            opt.step()\n",
    "            opt.zero_grad()\n",
    "            loss_history = torch.cat([loss_history,torch.tensor([[epoch,batch_num,loss]],device=device,dtype=torch.float32)])\n",
    "            print('\\r', f'batch #{batch_num}: {loss}', end='')\n",
    "            batch_num += 1\n",
    "            total_loss += loss.item()\n",
    "        sched.step(total_loss)\n",
    "        print('\\n', f'Epoch: ({epoch+1}/{epochs}) Loss = {total_loss}')"
   ],
   "metadata": {
    "id": "-dSJ50ZO6Dc3"
   }
  },
  {
   "cell_type": "code",
   "execution_count": null,
   "outputs": [
    {
     "output_type": "stream",
     "name": "stderr",
     "text": [
      "/usr/local/lib/python3.10/dist-packages/torch/nn/modules/loss.py:536: UserWarning: Using a target size (torch.Size([1, 1])) that is different to the input size (torch.Size([])). This will likely lead to incorrect results due to broadcasting. Please ensure they have the same size.\n",
      "  return F.mse_loss(input, target, reduction=self.reduction)\n"
     ]
    },
    {
     "output_type": "stream",
     "name": "stdout",
     "text": [
      " batch #5970: 0.034574978053569794\n",
      " Epoch: (1/20) Loss = 340.94080681789336\n",
      " batch #5970: 0.04408003389835358\n",
      " Epoch: (2/20) Loss = 288.9485700177551\n",
      " batch #5970: 0.01681065931916237\n",
      " Epoch: (3/20) Loss = 248.22618052550132\n",
      " batch #5970: 0.002429600339382887\n",
      " Epoch: (4/20) Loss = 216.6535723471507\n",
      " batch #5970: 0.003124505514279008\n",
      " Epoch: (5/20) Loss = 207.84415434036012\n",
      " batch #5970: 0.012763064354658127\n",
      " Epoch: (6/20) Loss = 200.8910938785329\n",
      " batch #5970: 0.020396467298269272\n",
      " Epoch: (7/20) Loss = 198.21858121816683\n",
      " batch #5970: 0.001492067240178585\n",
      " Epoch: (8/20) Loss = 191.94324094275038\n",
      " batch #5970: 0.0011906367726624012\n",
      " Epoch: (9/20) Loss = 191.67738665847992\n",
      " batch #5970: 0.002184638287872076\n",
      " Epoch: (10/20) Loss = 191.22270193805312\n",
      " batch #5970: 0.0071774558164179325\n",
      " Epoch: (11/20) Loss = 190.4904597723174\n",
      " batch #5970: 4.1964463889598846e-05\n",
      " Epoch: (12/20) Loss = 191.49514723193766\n",
      " batch #5970: 0.025534119457006454\n",
      " Epoch: (13/20) Loss = 188.0820094569827\n",
      " batch #5970: 0.002116432646289468\n",
      " Epoch: (14/20) Loss = 184.5643912843421\n",
      " batch #5970: 0.03975721821188927\n",
      " Epoch: (15/20) Loss = 190.674738411629\n",
      " batch #5970: 0.0017852935707196593\n",
      " Epoch: (16/20) Loss = 184.85494566804607\n",
      " batch #5970: 0.00017675351409707218\n",
      " Epoch: (17/20) Loss = 184.90224553605583\n",
      " batch #5970: 0.005965251941233873\n",
      " Epoch: (18/20) Loss = 186.37915642565633\n",
      " batch #5970: 0.001063820207491517\n",
      " Epoch: (19/20) Loss = 184.2301211372337\n",
      " batch #5970: 0.00413467874750495\n",
      " Epoch: (20/20) Loss = 179.58998737668205\n"
     ]
    }
   ],
   "source": [
    "# Training the model and save weights\n",
    "fit(num_epochs, model, train_dl)\n",
    "torch.save(model.state_dict(), \"model_weights_improved\")"
   ],
   "metadata": {
    "id": "9jUz2KGx6Dc3",
    "colab": {
     "base_uri": "https://localhost:8080/"
    },
    "outputId": "3c928c08-39c1-4a13-9980-7a528ffe6c45"
   }
  },
  {
   "cell_type": "code",
   "execution_count": null,
   "outputs": [],
   "source": [],
   "metadata": {
    "id": "HFYdsRgN6Dc3"
   }
  },
  {
   "cell_type": "code",
   "execution_count": null,
   "outputs": [],
   "source": [],
   "metadata": {
    "id": "KVkulQ_l6Dc3"
   }
  },
  {
   "cell_type": "code",
   "execution_count": null,
   "outputs": [],
   "source": [],
   "metadata": {
    "id": "rfVEuNp86Dc4"
   }
  },
  {
   "cell_type": "code",
   "execution_count": null,
   "outputs": [],
   "source": [],
   "metadata": {
    "id": "5yAcaRyX6Dc4"
   }
  },
  {
   "cell_type": "code",
   "execution_count": null,
   "outputs": [],
   "source": [],
   "metadata": {
    "id": "Xdzx25Oa6Dc4"
   }
  },
  {
   "cell_type": "code",
   "execution_count": null,
   "outputs": [],
   "source": [],
   "metadata": {
    "id": "RmJpuZZM6Dc4"
   }
  },
  {
   "cell_type": "code",
   "execution_count": null,
   "outputs": [],
   "source": [],
   "metadata": {
    "id": "53bIarB76Dc4"
   }
  },
  {
   "cell_type": "code",
   "execution_count": null,
   "outputs": [],
   "source": [],
   "metadata": {
    "id": "fcg7wmCf6Dc4"
   }
  }
 ],
 "metadata": {
  "kernelspec": {
   "name": "python3",
   "language": "python",
   "display_name": "Python 3 (ipykernel)"
  },
  "language_info": {
   "codemirror_mode": {
    "name": "ipython",
    "version": 2
   },
   "file_extension": ".py",
   "mimetype": "text/x-python",
   "name": "python",
   "nbconvert_exporter": "python",
   "pygments_lexer": "ipython2",
   "version": "2.7.6"
  },
  "colab": {
   "provenance": [],
   "gpuType": "T4"
  },
  "accelerator": "GPU",
  "widgets": {
   "application/vnd.jupyter.widget-state+json": {
    "7e68b52ef52e40c1a1d07c65b422cad3": {
     "model_module": "@jupyter-widgets/controls",
     "model_name": "HBoxModel",
     "model_module_version": "1.5.0",
     "state": {
      "_dom_classes": [],
      "_model_module": "@jupyter-widgets/controls",
      "_model_module_version": "1.5.0",
      "_model_name": "HBoxModel",
      "_view_count": null,
      "_view_module": "@jupyter-widgets/controls",
      "_view_module_version": "1.5.0",
      "_view_name": "HBoxView",
      "box_style": "",
      "children": [
       "IPY_MODEL_94f756f260314d46988196d477543b48",
       "IPY_MODEL_66643e9dabff4fda8ea71cabbd12a015",
       "IPY_MODEL_7661ad59248240708363078734d819b9"
      ],
      "layout": "IPY_MODEL_1fde7b6fd65c4ce78d81f4cb5a7c5efa"
     }
    },
    "94f756f260314d46988196d477543b48": {
     "model_module": "@jupyter-widgets/controls",
     "model_name": "HTMLModel",
     "model_module_version": "1.5.0",
     "state": {
      "_dom_classes": [],
      "_model_module": "@jupyter-widgets/controls",
      "_model_module_version": "1.5.0",
      "_model_name": "HTMLModel",
      "_view_count": null,
      "_view_module": "@jupyter-widgets/controls",
      "_view_module_version": "1.5.0",
      "_view_name": "HTMLView",
      "description": "",
      "description_tooltip": null,
      "layout": "IPY_MODEL_87a1a09a4f064b678c24e76190920164",
      "placeholder": "​",
      "style": "IPY_MODEL_85fbb58b68684237afc6f157811192bc",
      "value": "Downloading (…)rocessor_config.json: 100%"
     }
    },
    "66643e9dabff4fda8ea71cabbd12a015": {
     "model_module": "@jupyter-widgets/controls",
     "model_name": "FloatProgressModel",
     "model_module_version": "1.5.0",
     "state": {
      "_dom_classes": [],
      "_model_module": "@jupyter-widgets/controls",
      "_model_module_version": "1.5.0",
      "_model_name": "FloatProgressModel",
      "_view_count": null,
      "_view_module": "@jupyter-widgets/controls",
      "_view_module_version": "1.5.0",
      "_view_name": "ProgressView",
      "bar_style": "success",
      "description": "",
      "description_tooltip": null,
      "layout": "IPY_MODEL_d36adfbdfc6c41f9a9f3f40436903e00",
      "max": 160,
      "min": 0,
      "orientation": "horizontal",
      "style": "IPY_MODEL_1d013f7bb8154c2bb61bc179a04807c7",
      "value": 160
     }
    },
    "7661ad59248240708363078734d819b9": {
     "model_module": "@jupyter-widgets/controls",
     "model_name": "HTMLModel",
     "model_module_version": "1.5.0",
     "state": {
      "_dom_classes": [],
      "_model_module": "@jupyter-widgets/controls",
      "_model_module_version": "1.5.0",
      "_model_name": "HTMLModel",
      "_view_count": null,
      "_view_module": "@jupyter-widgets/controls",
      "_view_module_version": "1.5.0",
      "_view_name": "HTMLView",
      "description": "",
      "description_tooltip": null,
      "layout": "IPY_MODEL_8e4075c7ef6f440f87c71a8c255c4692",
      "placeholder": "​",
      "style": "IPY_MODEL_9729ab2d0830459d8953cc70d3098792",
      "value": " 160/160 [00:00&lt;00:00, 5.35kB/s]"
     }
    },
    "1fde7b6fd65c4ce78d81f4cb5a7c5efa": {
     "model_module": "@jupyter-widgets/base",
     "model_name": "LayoutModel",
     "model_module_version": "1.2.0",
     "state": {
      "_model_module": "@jupyter-widgets/base",
      "_model_module_version": "1.2.0",
      "_model_name": "LayoutModel",
      "_view_count": null,
      "_view_module": "@jupyter-widgets/base",
      "_view_module_version": "1.2.0",
      "_view_name": "LayoutView",
      "align_content": null,
      "align_items": null,
      "align_self": null,
      "border": null,
      "bottom": null,
      "display": null,
      "flex": null,
      "flex_flow": null,
      "grid_area": null,
      "grid_auto_columns": null,
      "grid_auto_flow": null,
      "grid_auto_rows": null,
      "grid_column": null,
      "grid_gap": null,
      "grid_row": null,
      "grid_template_areas": null,
      "grid_template_columns": null,
      "grid_template_rows": null,
      "height": null,
      "justify_content": null,
      "justify_items": null,
      "left": null,
      "margin": null,
      "max_height": null,
      "max_width": null,
      "min_height": null,
      "min_width": null,
      "object_fit": null,
      "object_position": null,
      "order": null,
      "overflow": null,
      "overflow_x": null,
      "overflow_y": null,
      "padding": null,
      "right": null,
      "top": null,
      "visibility": null,
      "width": null
     }
    },
    "87a1a09a4f064b678c24e76190920164": {
     "model_module": "@jupyter-widgets/base",
     "model_name": "LayoutModel",
     "model_module_version": "1.2.0",
     "state": {
      "_model_module": "@jupyter-widgets/base",
      "_model_module_version": "1.2.0",
      "_model_name": "LayoutModel",
      "_view_count": null,
      "_view_module": "@jupyter-widgets/base",
      "_view_module_version": "1.2.0",
      "_view_name": "LayoutView",
      "align_content": null,
      "align_items": null,
      "align_self": null,
      "border": null,
      "bottom": null,
      "display": null,
      "flex": null,
      "flex_flow": null,
      "grid_area": null,
      "grid_auto_columns": null,
      "grid_auto_flow": null,
      "grid_auto_rows": null,
      "grid_column": null,
      "grid_gap": null,
      "grid_row": null,
      "grid_template_areas": null,
      "grid_template_columns": null,
      "grid_template_rows": null,
      "height": null,
      "justify_content": null,
      "justify_items": null,
      "left": null,
      "margin": null,
      "max_height": null,
      "max_width": null,
      "min_height": null,
      "min_width": null,
      "object_fit": null,
      "object_position": null,
      "order": null,
      "overflow": null,
      "overflow_x": null,
      "overflow_y": null,
      "padding": null,
      "right": null,
      "top": null,
      "visibility": null,
      "width": null
     }
    },
    "85fbb58b68684237afc6f157811192bc": {
     "model_module": "@jupyter-widgets/controls",
     "model_name": "DescriptionStyleModel",
     "model_module_version": "1.5.0",
     "state": {
      "_model_module": "@jupyter-widgets/controls",
      "_model_module_version": "1.5.0",
      "_model_name": "DescriptionStyleModel",
      "_view_count": null,
      "_view_module": "@jupyter-widgets/base",
      "_view_module_version": "1.2.0",
      "_view_name": "StyleView",
      "description_width": ""
     }
    },
    "d36adfbdfc6c41f9a9f3f40436903e00": {
     "model_module": "@jupyter-widgets/base",
     "model_name": "LayoutModel",
     "model_module_version": "1.2.0",
     "state": {
      "_model_module": "@jupyter-widgets/base",
      "_model_module_version": "1.2.0",
      "_model_name": "LayoutModel",
      "_view_count": null,
      "_view_module": "@jupyter-widgets/base",
      "_view_module_version": "1.2.0",
      "_view_name": "LayoutView",
      "align_content": null,
      "align_items": null,
      "align_self": null,
      "border": null,
      "bottom": null,
      "display": null,
      "flex": null,
      "flex_flow": null,
      "grid_area": null,
      "grid_auto_columns": null,
      "grid_auto_flow": null,
      "grid_auto_rows": null,
      "grid_column": null,
      "grid_gap": null,
      "grid_row": null,
      "grid_template_areas": null,
      "grid_template_columns": null,
      "grid_template_rows": null,
      "height": null,
      "justify_content": null,
      "justify_items": null,
      "left": null,
      "margin": null,
      "max_height": null,
      "max_width": null,
      "min_height": null,
      "min_width": null,
      "object_fit": null,
      "object_position": null,
      "order": null,
      "overflow": null,
      "overflow_x": null,
      "overflow_y": null,
      "padding": null,
      "right": null,
      "top": null,
      "visibility": null,
      "width": null
     }
    },
    "1d013f7bb8154c2bb61bc179a04807c7": {
     "model_module": "@jupyter-widgets/controls",
     "model_name": "ProgressStyleModel",
     "model_module_version": "1.5.0",
     "state": {
      "_model_module": "@jupyter-widgets/controls",
      "_model_module_version": "1.5.0",
      "_model_name": "ProgressStyleModel",
      "_view_count": null,
      "_view_module": "@jupyter-widgets/base",
      "_view_module_version": "1.2.0",
      "_view_name": "StyleView",
      "bar_color": null,
      "description_width": ""
     }
    },
    "8e4075c7ef6f440f87c71a8c255c4692": {
     "model_module": "@jupyter-widgets/base",
     "model_name": "LayoutModel",
     "model_module_version": "1.2.0",
     "state": {
      "_model_module": "@jupyter-widgets/base",
      "_model_module_version": "1.2.0",
      "_model_name": "LayoutModel",
      "_view_count": null,
      "_view_module": "@jupyter-widgets/base",
      "_view_module_version": "1.2.0",
      "_view_name": "LayoutView",
      "align_content": null,
      "align_items": null,
      "align_self": null,
      "border": null,
      "bottom": null,
      "display": null,
      "flex": null,
      "flex_flow": null,
      "grid_area": null,
      "grid_auto_columns": null,
      "grid_auto_flow": null,
      "grid_auto_rows": null,
      "grid_column": null,
      "grid_gap": null,
      "grid_row": null,
      "grid_template_areas": null,
      "grid_template_columns": null,
      "grid_template_rows": null,
      "height": null,
      "justify_content": null,
      "justify_items": null,
      "left": null,
      "margin": null,
      "max_height": null,
      "max_width": null,
      "min_height": null,
      "min_width": null,
      "object_fit": null,
      "object_position": null,
      "order": null,
      "overflow": null,
      "overflow_x": null,
      "overflow_y": null,
      "padding": null,
      "right": null,
      "top": null,
      "visibility": null,
      "width": null
     }
    },
    "9729ab2d0830459d8953cc70d3098792": {
     "model_module": "@jupyter-widgets/controls",
     "model_name": "DescriptionStyleModel",
     "model_module_version": "1.5.0",
     "state": {
      "_model_module": "@jupyter-widgets/controls",
      "_model_module_version": "1.5.0",
      "_model_name": "DescriptionStyleModel",
      "_view_count": null,
      "_view_module": "@jupyter-widgets/base",
      "_view_module_version": "1.2.0",
      "_view_name": "StyleView",
      "description_width": ""
     }
    },
    "f7eebe50a45042e3b929eb0406f8d500": {
     "model_module": "@jupyter-widgets/controls",
     "model_name": "HBoxModel",
     "model_module_version": "1.5.0",
     "state": {
      "_dom_classes": [],
      "_model_module": "@jupyter-widgets/controls",
      "_model_module_version": "1.5.0",
      "_model_name": "HBoxModel",
      "_view_count": null,
      "_view_module": "@jupyter-widgets/controls",
      "_view_module_version": "1.5.0",
      "_view_name": "HBoxView",
      "box_style": "",
      "children": [
       "IPY_MODEL_0b94232144414ce492d4a90172abdfdb",
       "IPY_MODEL_d8552f1fe54f41d5ba657bac36b7242a",
       "IPY_MODEL_18b87f26ca24437e845a2219f3e50635"
      ],
      "layout": "IPY_MODEL_08d6acc324e5487089010c5bd4fcb7f8"
     }
    },
    "0b94232144414ce492d4a90172abdfdb": {
     "model_module": "@jupyter-widgets/controls",
     "model_name": "HTMLModel",
     "model_module_version": "1.5.0",
     "state": {
      "_dom_classes": [],
      "_model_module": "@jupyter-widgets/controls",
      "_model_module_version": "1.5.0",
      "_model_name": "HTMLModel",
      "_view_count": null,
      "_view_module": "@jupyter-widgets/controls",
      "_view_module_version": "1.5.0",
      "_view_name": "HTMLView",
      "description": "",
      "description_tooltip": null,
      "layout": "IPY_MODEL_564431ccb1a34e6a9fc9b6ddd1791d26",
      "placeholder": "​",
      "style": "IPY_MODEL_88d62574d3f14b10a5562a91b429c3a9",
      "value": "Downloading (…)lve/main/config.json: 100%"
     }
    },
    "d8552f1fe54f41d5ba657bac36b7242a": {
     "model_module": "@jupyter-widgets/controls",
     "model_name": "FloatProgressModel",
     "model_module_version": "1.5.0",
     "state": {
      "_dom_classes": [],
      "_model_module": "@jupyter-widgets/controls",
      "_model_module_version": "1.5.0",
      "_model_name": "FloatProgressModel",
      "_view_count": null,
      "_view_module": "@jupyter-widgets/controls",
      "_view_module_version": "1.5.0",
      "_view_name": "ProgressView",
      "bar_style": "success",
      "description": "",
      "description_tooltip": null,
      "layout": "IPY_MODEL_2bb2631f5163487c8fc0d76a59ebca41",
      "max": 502,
      "min": 0,
      "orientation": "horizontal",
      "style": "IPY_MODEL_46334759886c4e7e93ec3c347d1362e4",
      "value": 502
     }
    },
    "18b87f26ca24437e845a2219f3e50635": {
     "model_module": "@jupyter-widgets/controls",
     "model_name": "HTMLModel",
     "model_module_version": "1.5.0",
     "state": {
      "_dom_classes": [],
      "_model_module": "@jupyter-widgets/controls",
      "_model_module_version": "1.5.0",
      "_model_name": "HTMLModel",
      "_view_count": null,
      "_view_module": "@jupyter-widgets/controls",
      "_view_module_version": "1.5.0",
      "_view_name": "HTMLView",
      "description": "",
      "description_tooltip": null,
      "layout": "IPY_MODEL_a275840e4634443e8269b2e5d59d63c8",
      "placeholder": "​",
      "style": "IPY_MODEL_c8b8226ac6324d7987a35e8dea25dbfd",
      "value": " 502/502 [00:00&lt;00:00, 19.1kB/s]"
     }
    },
    "08d6acc324e5487089010c5bd4fcb7f8": {
     "model_module": "@jupyter-widgets/base",
     "model_name": "LayoutModel",
     "model_module_version": "1.2.0",
     "state": {
      "_model_module": "@jupyter-widgets/base",
      "_model_module_version": "1.2.0",
      "_model_name": "LayoutModel",
      "_view_count": null,
      "_view_module": "@jupyter-widgets/base",
      "_view_module_version": "1.2.0",
      "_view_name": "LayoutView",
      "align_content": null,
      "align_items": null,
      "align_self": null,
      "border": null,
      "bottom": null,
      "display": null,
      "flex": null,
      "flex_flow": null,
      "grid_area": null,
      "grid_auto_columns": null,
      "grid_auto_flow": null,
      "grid_auto_rows": null,
      "grid_column": null,
      "grid_gap": null,
      "grid_row": null,
      "grid_template_areas": null,
      "grid_template_columns": null,
      "grid_template_rows": null,
      "height": null,
      "justify_content": null,
      "justify_items": null,
      "left": null,
      "margin": null,
      "max_height": null,
      "max_width": null,
      "min_height": null,
      "min_width": null,
      "object_fit": null,
      "object_position": null,
      "order": null,
      "overflow": null,
      "overflow_x": null,
      "overflow_y": null,
      "padding": null,
      "right": null,
      "top": null,
      "visibility": null,
      "width": null
     }
    },
    "564431ccb1a34e6a9fc9b6ddd1791d26": {
     "model_module": "@jupyter-widgets/base",
     "model_name": "LayoutModel",
     "model_module_version": "1.2.0",
     "state": {
      "_model_module": "@jupyter-widgets/base",
      "_model_module_version": "1.2.0",
      "_model_name": "LayoutModel",
      "_view_count": null,
      "_view_module": "@jupyter-widgets/base",
      "_view_module_version": "1.2.0",
      "_view_name": "LayoutView",
      "align_content": null,
      "align_items": null,
      "align_self": null,
      "border": null,
      "bottom": null,
      "display": null,
      "flex": null,
      "flex_flow": null,
      "grid_area": null,
      "grid_auto_columns": null,
      "grid_auto_flow": null,
      "grid_auto_rows": null,
      "grid_column": null,
      "grid_gap": null,
      "grid_row": null,
      "grid_template_areas": null,
      "grid_template_columns": null,
      "grid_template_rows": null,
      "height": null,
      "justify_content": null,
      "justify_items": null,
      "left": null,
      "margin": null,
      "max_height": null,
      "max_width": null,
      "min_height": null,
      "min_width": null,
      "object_fit": null,
      "object_position": null,
      "order": null,
      "overflow": null,
      "overflow_x": null,
      "overflow_y": null,
      "padding": null,
      "right": null,
      "top": null,
      "visibility": null,
      "width": null
     }
    },
    "88d62574d3f14b10a5562a91b429c3a9": {
     "model_module": "@jupyter-widgets/controls",
     "model_name": "DescriptionStyleModel",
     "model_module_version": "1.5.0",
     "state": {
      "_model_module": "@jupyter-widgets/controls",
      "_model_module_version": "1.5.0",
      "_model_name": "DescriptionStyleModel",
      "_view_count": null,
      "_view_module": "@jupyter-widgets/base",
      "_view_module_version": "1.2.0",
      "_view_name": "StyleView",
      "description_width": ""
     }
    },
    "2bb2631f5163487c8fc0d76a59ebca41": {
     "model_module": "@jupyter-widgets/base",
     "model_name": "LayoutModel",
     "model_module_version": "1.2.0",
     "state": {
      "_model_module": "@jupyter-widgets/base",
      "_model_module_version": "1.2.0",
      "_model_name": "LayoutModel",
      "_view_count": null,
      "_view_module": "@jupyter-widgets/base",
      "_view_module_version": "1.2.0",
      "_view_name": "LayoutView",
      "align_content": null,
      "align_items": null,
      "align_self": null,
      "border": null,
      "bottom": null,
      "display": null,
      "flex": null,
      "flex_flow": null,
      "grid_area": null,
      "grid_auto_columns": null,
      "grid_auto_flow": null,
      "grid_auto_rows": null,
      "grid_column": null,
      "grid_gap": null,
      "grid_row": null,
      "grid_template_areas": null,
      "grid_template_columns": null,
      "grid_template_rows": null,
      "height": null,
      "justify_content": null,
      "justify_items": null,
      "left": null,
      "margin": null,
      "max_height": null,
      "max_width": null,
      "min_height": null,
      "min_width": null,
      "object_fit": null,
      "object_position": null,
      "order": null,
      "overflow": null,
      "overflow_x": null,
      "overflow_y": null,
      "padding": null,
      "right": null,
      "top": null,
      "visibility": null,
      "width": null
     }
    },
    "46334759886c4e7e93ec3c347d1362e4": {
     "model_module": "@jupyter-widgets/controls",
     "model_name": "ProgressStyleModel",
     "model_module_version": "1.5.0",
     "state": {
      "_model_module": "@jupyter-widgets/controls",
      "_model_module_version": "1.5.0",
      "_model_name": "ProgressStyleModel",
      "_view_count": null,
      "_view_module": "@jupyter-widgets/base",
      "_view_module_version": "1.2.0",
      "_view_name": "StyleView",
      "bar_color": null,
      "description_width": ""
     }
    },
    "a275840e4634443e8269b2e5d59d63c8": {
     "model_module": "@jupyter-widgets/base",
     "model_name": "LayoutModel",
     "model_module_version": "1.2.0",
     "state": {
      "_model_module": "@jupyter-widgets/base",
      "_model_module_version": "1.2.0",
      "_model_name": "LayoutModel",
      "_view_count": null,
      "_view_module": "@jupyter-widgets/base",
      "_view_module_version": "1.2.0",
      "_view_name": "LayoutView",
      "align_content": null,
      "align_items": null,
      "align_self": null,
      "border": null,
      "bottom": null,
      "display": null,
      "flex": null,
      "flex_flow": null,
      "grid_area": null,
      "grid_auto_columns": null,
      "grid_auto_flow": null,
      "grid_auto_rows": null,
      "grid_column": null,
      "grid_gap": null,
      "grid_row": null,
      "grid_template_areas": null,
      "grid_template_columns": null,
      "grid_template_rows": null,
      "height": null,
      "justify_content": null,
      "justify_items": null,
      "left": null,
      "margin": null,
      "max_height": null,
      "max_width": null,
      "min_height": null,
      "min_width": null,
      "object_fit": null,
      "object_position": null,
      "order": null,
      "overflow": null,
      "overflow_x": null,
      "overflow_y": null,
      "padding": null,
      "right": null,
      "top": null,
      "visibility": null,
      "width": null
     }
    },
    "c8b8226ac6324d7987a35e8dea25dbfd": {
     "model_module": "@jupyter-widgets/controls",
     "model_name": "DescriptionStyleModel",
     "model_module_version": "1.5.0",
     "state": {
      "_model_module": "@jupyter-widgets/controls",
      "_model_module_version": "1.5.0",
      "_model_name": "DescriptionStyleModel",
      "_view_count": null,
      "_view_module": "@jupyter-widgets/base",
      "_view_module_version": "1.2.0",
      "_view_name": "StyleView",
      "description_width": ""
     }
    },
    "0001fa2382bc43a79debf0ee38e3d3eb": {
     "model_module": "@jupyter-widgets/controls",
     "model_name": "HBoxModel",
     "model_module_version": "1.5.0",
     "state": {
      "_dom_classes": [],
      "_model_module": "@jupyter-widgets/controls",
      "_model_module_version": "1.5.0",
      "_model_name": "HBoxModel",
      "_view_count": null,
      "_view_module": "@jupyter-widgets/controls",
      "_view_module_version": "1.5.0",
      "_view_name": "HBoxView",
      "box_style": "",
      "children": [
       "IPY_MODEL_ebb7d61f11ec487ba9ff06d97d622903",
       "IPY_MODEL_dd92a4c7abff44f28451adc403a1500c",
       "IPY_MODEL_6fe08ba854414e198498773d6d23ff4e"
      ],
      "layout": "IPY_MODEL_2cb58ebacb5e40849d691957ca401fdd"
     }
    },
    "ebb7d61f11ec487ba9ff06d97d622903": {
     "model_module": "@jupyter-widgets/controls",
     "model_name": "HTMLModel",
     "model_module_version": "1.5.0",
     "state": {
      "_dom_classes": [],
      "_model_module": "@jupyter-widgets/controls",
      "_model_module_version": "1.5.0",
      "_model_name": "HTMLModel",
      "_view_count": null,
      "_view_module": "@jupyter-widgets/controls",
      "_view_module_version": "1.5.0",
      "_view_name": "HTMLView",
      "description": "",
      "description_tooltip": null,
      "layout": "IPY_MODEL_eb4f2150cafc4a629b3cb43e39f7916a",
      "placeholder": "​",
      "style": "IPY_MODEL_c5ec4f57929447da9c5c1d2749b8ae5f",
      "value": "Downloading pytorch_model.bin: 100%"
     }
    },
    "dd92a4c7abff44f28451adc403a1500c": {
     "model_module": "@jupyter-widgets/controls",
     "model_name": "FloatProgressModel",
     "model_module_version": "1.5.0",
     "state": {
      "_dom_classes": [],
      "_model_module": "@jupyter-widgets/controls",
      "_model_module_version": "1.5.0",
      "_model_name": "FloatProgressModel",
      "_view_count": null,
      "_view_module": "@jupyter-widgets/controls",
      "_view_module_version": "1.5.0",
      "_view_name": "ProgressView",
      "bar_style": "success",
      "description": "",
      "description_tooltip": null,
      "layout": "IPY_MODEL_84d50ded60f4419ca867818857239673",
      "max": 345636463,
      "min": 0,
      "orientation": "horizontal",
      "style": "IPY_MODEL_9c1f0c305b2d4f6484d65365127710c3",
      "value": 345636463
     }
    },
    "6fe08ba854414e198498773d6d23ff4e": {
     "model_module": "@jupyter-widgets/controls",
     "model_name": "HTMLModel",
     "model_module_version": "1.5.0",
     "state": {
      "_dom_classes": [],
      "_model_module": "@jupyter-widgets/controls",
      "_model_module_version": "1.5.0",
      "_model_name": "HTMLModel",
      "_view_count": null,
      "_view_module": "@jupyter-widgets/controls",
      "_view_module_version": "1.5.0",
      "_view_name": "HTMLView",
      "description": "",
      "description_tooltip": null,
      "layout": "IPY_MODEL_b234a7a981b54e0aaed78fe744013093",
      "placeholder": "​",
      "style": "IPY_MODEL_4264a1c860b2462eb96086f487509f17",
      "value": " 346M/346M [00:03&lt;00:00, 100MB/s]"
     }
    },
    "2cb58ebacb5e40849d691957ca401fdd": {
     "model_module": "@jupyter-widgets/base",
     "model_name": "LayoutModel",
     "model_module_version": "1.2.0",
     "state": {
      "_model_module": "@jupyter-widgets/base",
      "_model_module_version": "1.2.0",
      "_model_name": "LayoutModel",
      "_view_count": null,
      "_view_module": "@jupyter-widgets/base",
      "_view_module_version": "1.2.0",
      "_view_name": "LayoutView",
      "align_content": null,
      "align_items": null,
      "align_self": null,
      "border": null,
      "bottom": null,
      "display": null,
      "flex": null,
      "flex_flow": null,
      "grid_area": null,
      "grid_auto_columns": null,
      "grid_auto_flow": null,
      "grid_auto_rows": null,
      "grid_column": null,
      "grid_gap": null,
      "grid_row": null,
      "grid_template_areas": null,
      "grid_template_columns": null,
      "grid_template_rows": null,
      "height": null,
      "justify_content": null,
      "justify_items": null,
      "left": null,
      "margin": null,
      "max_height": null,
      "max_width": null,
      "min_height": null,
      "min_width": null,
      "object_fit": null,
      "object_position": null,
      "order": null,
      "overflow": null,
      "overflow_x": null,
      "overflow_y": null,
      "padding": null,
      "right": null,
      "top": null,
      "visibility": null,
      "width": null
     }
    },
    "eb4f2150cafc4a629b3cb43e39f7916a": {
     "model_module": "@jupyter-widgets/base",
     "model_name": "LayoutModel",
     "model_module_version": "1.2.0",
     "state": {
      "_model_module": "@jupyter-widgets/base",
      "_model_module_version": "1.2.0",
      "_model_name": "LayoutModel",
      "_view_count": null,
      "_view_module": "@jupyter-widgets/base",
      "_view_module_version": "1.2.0",
      "_view_name": "LayoutView",
      "align_content": null,
      "align_items": null,
      "align_self": null,
      "border": null,
      "bottom": null,
      "display": null,
      "flex": null,
      "flex_flow": null,
      "grid_area": null,
      "grid_auto_columns": null,
      "grid_auto_flow": null,
      "grid_auto_rows": null,
      "grid_column": null,
      "grid_gap": null,
      "grid_row": null,
      "grid_template_areas": null,
      "grid_template_columns": null,
      "grid_template_rows": null,
      "height": null,
      "justify_content": null,
      "justify_items": null,
      "left": null,
      "margin": null,
      "max_height": null,
      "max_width": null,
      "min_height": null,
      "min_width": null,
      "object_fit": null,
      "object_position": null,
      "order": null,
      "overflow": null,
      "overflow_x": null,
      "overflow_y": null,
      "padding": null,
      "right": null,
      "top": null,
      "visibility": null,
      "width": null
     }
    },
    "c5ec4f57929447da9c5c1d2749b8ae5f": {
     "model_module": "@jupyter-widgets/controls",
     "model_name": "DescriptionStyleModel",
     "model_module_version": "1.5.0",
     "state": {
      "_model_module": "@jupyter-widgets/controls",
      "_model_module_version": "1.5.0",
      "_model_name": "DescriptionStyleModel",
      "_view_count": null,
      "_view_module": "@jupyter-widgets/base",
      "_view_module_version": "1.2.0",
      "_view_name": "StyleView",
      "description_width": ""
     }
    },
    "84d50ded60f4419ca867818857239673": {
     "model_module": "@jupyter-widgets/base",
     "model_name": "LayoutModel",
     "model_module_version": "1.2.0",
     "state": {
      "_model_module": "@jupyter-widgets/base",
      "_model_module_version": "1.2.0",
      "_model_name": "LayoutModel",
      "_view_count": null,
      "_view_module": "@jupyter-widgets/base",
      "_view_module_version": "1.2.0",
      "_view_name": "LayoutView",
      "align_content": null,
      "align_items": null,
      "align_self": null,
      "border": null,
      "bottom": null,
      "display": null,
      "flex": null,
      "flex_flow": null,
      "grid_area": null,
      "grid_auto_columns": null,
      "grid_auto_flow": null,
      "grid_auto_rows": null,
      "grid_column": null,
      "grid_gap": null,
      "grid_row": null,
      "grid_template_areas": null,
      "grid_template_columns": null,
      "grid_template_rows": null,
      "height": null,
      "justify_content": null,
      "justify_items": null,
      "left": null,
      "margin": null,
      "max_height": null,
      "max_width": null,
      "min_height": null,
      "min_width": null,
      "object_fit": null,
      "object_position": null,
      "order": null,
      "overflow": null,
      "overflow_x": null,
      "overflow_y": null,
      "padding": null,
      "right": null,
      "top": null,
      "visibility": null,
      "width": null
     }
    },
    "9c1f0c305b2d4f6484d65365127710c3": {
     "model_module": "@jupyter-widgets/controls",
     "model_name": "ProgressStyleModel",
     "model_module_version": "1.5.0",
     "state": {
      "_model_module": "@jupyter-widgets/controls",
      "_model_module_version": "1.5.0",
      "_model_name": "ProgressStyleModel",
      "_view_count": null,
      "_view_module": "@jupyter-widgets/base",
      "_view_module_version": "1.2.0",
      "_view_name": "StyleView",
      "bar_color": null,
      "description_width": ""
     }
    },
    "b234a7a981b54e0aaed78fe744013093": {
     "model_module": "@jupyter-widgets/base",
     "model_name": "LayoutModel",
     "model_module_version": "1.2.0",
     "state": {
      "_model_module": "@jupyter-widgets/base",
      "_model_module_version": "1.2.0",
      "_model_name": "LayoutModel",
      "_view_count": null,
      "_view_module": "@jupyter-widgets/base",
      "_view_module_version": "1.2.0",
      "_view_name": "LayoutView",
      "align_content": null,
      "align_items": null,
      "align_self": null,
      "border": null,
      "bottom": null,
      "display": null,
      "flex": null,
      "flex_flow": null,
      "grid_area": null,
      "grid_auto_columns": null,
      "grid_auto_flow": null,
      "grid_auto_rows": null,
      "grid_column": null,
      "grid_gap": null,
      "grid_row": null,
      "grid_template_areas": null,
      "grid_template_columns": null,
      "grid_template_rows": null,
      "height": null,
      "justify_content": null,
      "justify_items": null,
      "left": null,
      "margin": null,
      "max_height": null,
      "max_width": null,
      "min_height": null,
      "min_width": null,
      "object_fit": null,
      "object_position": null,
      "order": null,
      "overflow": null,
      "overflow_x": null,
      "overflow_y": null,
      "padding": null,
      "right": null,
      "top": null,
      "visibility": null,
      "width": null
     }
    },
    "4264a1c860b2462eb96086f487509f17": {
     "model_module": "@jupyter-widgets/controls",
     "model_name": "DescriptionStyleModel",
     "model_module_version": "1.5.0",
     "state": {
      "_model_module": "@jupyter-widgets/controls",
      "_model_module_version": "1.5.0",
      "_model_name": "DescriptionStyleModel",
      "_view_count": null,
      "_view_module": "@jupyter-widgets/base",
      "_view_module_version": "1.2.0",
      "_view_name": "StyleView",
      "description_width": ""
     }
    }
   }
  }
 },
 "nbformat": 4,
 "nbformat_minor": 0
}
